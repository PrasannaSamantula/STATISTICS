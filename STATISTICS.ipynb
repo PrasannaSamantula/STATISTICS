{
 "cells": [
  {
   "cell_type": "markdown",
   "id": "3e967542-ab4b-4777-ae07-cfbbb443a189",
   "metadata": {},
   "source": [
    "##### Statistics - The science of collecting,organizing & analyzing data.\n",
    "##### Data - Facts or piece of information that can be measured.\n",
    "##### Statistics is used for better decision making"
   ]
  },
  {
   "cell_type": "markdown",
   "id": "9150af7d-71b2-4da9-8f27-88691945b8ba",
   "metadata": {},
   "source": [
    "## Descriptive Statistics \n",
    "#####  - It consists of organizing & summarizing data"
   ]
  },
  {
   "cell_type": "markdown",
   "id": "46f860af-e83c-4b4a-a964-fda66203bf92",
   "metadata": {},
   "source": [
    "### 1)Measure Of Central Tendency"
   ]
  },
  {
   "cell_type": "code",
   "execution_count": 1,
   "id": "94a4b625-1ad7-4c88-8430-4f3723108f5f",
   "metadata": {},
   "outputs": [],
   "source": [
    "import numpy as np\n",
    "import pandas as pd\n",
    "import seaborn as sns\n",
    "import matplotlib.pyplot as plt\n",
    "%matplotlib inline"
   ]
  },
  {
   "cell_type": "markdown",
   "id": "7c120282-c5ea-4f9e-bdb7-ec228d2b2dd0",
   "metadata": {},
   "source": [
    "#### MEAN  \n",
    "##### Ratio of sum of all observations to no.of observations"
   ]
  },
  {
   "cell_type": "code",
   "execution_count": 2,
   "id": "e93341c0-f12c-408a-afaf-ca47d6180580",
   "metadata": {},
   "outputs": [],
   "source": [
    "arr = np.array([4,5,6,2,1,8,5,6,4,7])"
   ]
  },
  {
   "cell_type": "code",
   "execution_count": 3,
   "id": "1fda854e-5310-4aa3-bc35-4adb2328314e",
   "metadata": {},
   "outputs": [
    {
     "data": {
      "text/plain": [
       "4.8"
      ]
     },
     "execution_count": 3,
     "metadata": {},
     "output_type": "execute_result"
    }
   ],
   "source": [
    "np.sum(arr)/len(arr)"
   ]
  },
  {
   "cell_type": "code",
   "execution_count": 4,
   "id": "fc36b214-6a0f-4ab4-ad97-784ebc07f28c",
   "metadata": {},
   "outputs": [
    {
     "data": {
      "text/plain": [
       "4.8"
      ]
     },
     "execution_count": 4,
     "metadata": {},
     "output_type": "execute_result"
    }
   ],
   "source": [
    "np.mean(arr)"
   ]
  },
  {
   "cell_type": "code",
   "execution_count": 5,
   "id": "26be58f5-7777-4150-838a-a93acc82c20c",
   "metadata": {},
   "outputs": [
    {
     "data": {
      "text/html": [
       "<div>\n",
       "<style scoped>\n",
       "    .dataframe tbody tr th:only-of-type {\n",
       "        vertical-align: middle;\n",
       "    }\n",
       "\n",
       "    .dataframe tbody tr th {\n",
       "        vertical-align: top;\n",
       "    }\n",
       "\n",
       "    .dataframe thead th {\n",
       "        text-align: right;\n",
       "    }\n",
       "</style>\n",
       "<table border=\"1\" class=\"dataframe\">\n",
       "  <thead>\n",
       "    <tr style=\"text-align: right;\">\n",
       "      <th></th>\n",
       "      <th>PassengerId</th>\n",
       "      <th>Survived</th>\n",
       "      <th>Pclass</th>\n",
       "      <th>Name</th>\n",
       "      <th>Sex</th>\n",
       "      <th>Age</th>\n",
       "      <th>SibSp</th>\n",
       "      <th>Parch</th>\n",
       "      <th>Ticket</th>\n",
       "      <th>Fare</th>\n",
       "      <th>Cabin</th>\n",
       "      <th>Embarked</th>\n",
       "    </tr>\n",
       "  </thead>\n",
       "  <tbody>\n",
       "    <tr>\n",
       "      <th>0</th>\n",
       "      <td>892</td>\n",
       "      <td>0</td>\n",
       "      <td>3</td>\n",
       "      <td>Kelly, Mr. James</td>\n",
       "      <td>male</td>\n",
       "      <td>34.5</td>\n",
       "      <td>0</td>\n",
       "      <td>0</td>\n",
       "      <td>330911</td>\n",
       "      <td>7.8292</td>\n",
       "      <td>NaN</td>\n",
       "      <td>Q</td>\n",
       "    </tr>\n",
       "    <tr>\n",
       "      <th>1</th>\n",
       "      <td>893</td>\n",
       "      <td>1</td>\n",
       "      <td>3</td>\n",
       "      <td>Wilkes, Mrs. James (Ellen Needs)</td>\n",
       "      <td>female</td>\n",
       "      <td>47.0</td>\n",
       "      <td>1</td>\n",
       "      <td>0</td>\n",
       "      <td>363272</td>\n",
       "      <td>7.0000</td>\n",
       "      <td>NaN</td>\n",
       "      <td>S</td>\n",
       "    </tr>\n",
       "    <tr>\n",
       "      <th>2</th>\n",
       "      <td>894</td>\n",
       "      <td>0</td>\n",
       "      <td>2</td>\n",
       "      <td>Myles, Mr. Thomas Francis</td>\n",
       "      <td>male</td>\n",
       "      <td>62.0</td>\n",
       "      <td>0</td>\n",
       "      <td>0</td>\n",
       "      <td>240276</td>\n",
       "      <td>9.6875</td>\n",
       "      <td>NaN</td>\n",
       "      <td>Q</td>\n",
       "    </tr>\n",
       "    <tr>\n",
       "      <th>3</th>\n",
       "      <td>895</td>\n",
       "      <td>0</td>\n",
       "      <td>3</td>\n",
       "      <td>Wirz, Mr. Albert</td>\n",
       "      <td>male</td>\n",
       "      <td>27.0</td>\n",
       "      <td>0</td>\n",
       "      <td>0</td>\n",
       "      <td>315154</td>\n",
       "      <td>8.6625</td>\n",
       "      <td>NaN</td>\n",
       "      <td>S</td>\n",
       "    </tr>\n",
       "    <tr>\n",
       "      <th>4</th>\n",
       "      <td>896</td>\n",
       "      <td>1</td>\n",
       "      <td>3</td>\n",
       "      <td>Hirvonen, Mrs. Alexander (Helga E Lindqvist)</td>\n",
       "      <td>female</td>\n",
       "      <td>22.0</td>\n",
       "      <td>1</td>\n",
       "      <td>1</td>\n",
       "      <td>3101298</td>\n",
       "      <td>12.2875</td>\n",
       "      <td>NaN</td>\n",
       "      <td>S</td>\n",
       "    </tr>\n",
       "  </tbody>\n",
       "</table>\n",
       "</div>"
      ],
      "text/plain": [
       "   PassengerId  Survived  Pclass  \\\n",
       "0          892         0       3   \n",
       "1          893         1       3   \n",
       "2          894         0       2   \n",
       "3          895         0       3   \n",
       "4          896         1       3   \n",
       "\n",
       "                                           Name     Sex   Age  SibSp  Parch  \\\n",
       "0                              Kelly, Mr. James    male  34.5      0      0   \n",
       "1              Wilkes, Mrs. James (Ellen Needs)  female  47.0      1      0   \n",
       "2                     Myles, Mr. Thomas Francis    male  62.0      0      0   \n",
       "3                              Wirz, Mr. Albert    male  27.0      0      0   \n",
       "4  Hirvonen, Mrs. Alexander (Helga E Lindqvist)  female  22.0      1      1   \n",
       "\n",
       "    Ticket     Fare Cabin Embarked  \n",
       "0   330911   7.8292   NaN        Q  \n",
       "1   363272   7.0000   NaN        S  \n",
       "2   240276   9.6875   NaN        Q  \n",
       "3   315154   8.6625   NaN        S  \n",
       "4  3101298  12.2875   NaN        S  "
      ]
     },
     "execution_count": 5,
     "metadata": {},
     "output_type": "execute_result"
    }
   ],
   "source": [
    "dts = pd.read_csv(\"titanic.csv\")\n",
    "dts.head()"
   ]
  },
  {
   "cell_type": "code",
   "execution_count": 6,
   "id": "4fe4ca1a-425d-4cbd-903b-781e0a2ed162",
   "metadata": {},
   "outputs": [
    {
     "data": {
      "text/html": [
       "<div>\n",
       "<style scoped>\n",
       "    .dataframe tbody tr th:only-of-type {\n",
       "        vertical-align: middle;\n",
       "    }\n",
       "\n",
       "    .dataframe tbody tr th {\n",
       "        vertical-align: top;\n",
       "    }\n",
       "\n",
       "    .dataframe thead th {\n",
       "        text-align: right;\n",
       "    }\n",
       "</style>\n",
       "<table border=\"1\" class=\"dataframe\">\n",
       "  <thead>\n",
       "    <tr style=\"text-align: right;\">\n",
       "      <th></th>\n",
       "      <th>PassengerId</th>\n",
       "      <th>Survived</th>\n",
       "      <th>Pclass</th>\n",
       "      <th>Age</th>\n",
       "      <th>SibSp</th>\n",
       "      <th>Parch</th>\n",
       "      <th>Fare</th>\n",
       "    </tr>\n",
       "  </thead>\n",
       "  <tbody>\n",
       "    <tr>\n",
       "      <th>count</th>\n",
       "      <td>418.000000</td>\n",
       "      <td>418.000000</td>\n",
       "      <td>418.000000</td>\n",
       "      <td>332.000000</td>\n",
       "      <td>418.000000</td>\n",
       "      <td>418.000000</td>\n",
       "      <td>418.000000</td>\n",
       "    </tr>\n",
       "    <tr>\n",
       "      <th>mean</th>\n",
       "      <td>1100.500000</td>\n",
       "      <td>0.363636</td>\n",
       "      <td>2.265550</td>\n",
       "      <td>30.272590</td>\n",
       "      <td>0.447368</td>\n",
       "      <td>0.392344</td>\n",
       "      <td>35.553655</td>\n",
       "    </tr>\n",
       "    <tr>\n",
       "      <th>std</th>\n",
       "      <td>120.810458</td>\n",
       "      <td>0.481622</td>\n",
       "      <td>0.841838</td>\n",
       "      <td>14.181209</td>\n",
       "      <td>0.896760</td>\n",
       "      <td>0.981429</td>\n",
       "      <td>55.860735</td>\n",
       "    </tr>\n",
       "    <tr>\n",
       "      <th>min</th>\n",
       "      <td>892.000000</td>\n",
       "      <td>0.000000</td>\n",
       "      <td>1.000000</td>\n",
       "      <td>0.170000</td>\n",
       "      <td>0.000000</td>\n",
       "      <td>0.000000</td>\n",
       "      <td>0.000000</td>\n",
       "    </tr>\n",
       "    <tr>\n",
       "      <th>25%</th>\n",
       "      <td>996.250000</td>\n",
       "      <td>0.000000</td>\n",
       "      <td>1.000000</td>\n",
       "      <td>21.000000</td>\n",
       "      <td>0.000000</td>\n",
       "      <td>0.000000</td>\n",
       "      <td>7.895800</td>\n",
       "    </tr>\n",
       "    <tr>\n",
       "      <th>50%</th>\n",
       "      <td>1100.500000</td>\n",
       "      <td>0.000000</td>\n",
       "      <td>3.000000</td>\n",
       "      <td>27.000000</td>\n",
       "      <td>0.000000</td>\n",
       "      <td>0.000000</td>\n",
       "      <td>14.454200</td>\n",
       "    </tr>\n",
       "    <tr>\n",
       "      <th>75%</th>\n",
       "      <td>1204.750000</td>\n",
       "      <td>1.000000</td>\n",
       "      <td>3.000000</td>\n",
       "      <td>39.000000</td>\n",
       "      <td>1.000000</td>\n",
       "      <td>0.000000</td>\n",
       "      <td>31.471875</td>\n",
       "    </tr>\n",
       "    <tr>\n",
       "      <th>max</th>\n",
       "      <td>1309.000000</td>\n",
       "      <td>1.000000</td>\n",
       "      <td>3.000000</td>\n",
       "      <td>76.000000</td>\n",
       "      <td>8.000000</td>\n",
       "      <td>9.000000</td>\n",
       "      <td>512.329200</td>\n",
       "    </tr>\n",
       "  </tbody>\n",
       "</table>\n",
       "</div>"
      ],
      "text/plain": [
       "       PassengerId    Survived      Pclass         Age       SibSp  \\\n",
       "count   418.000000  418.000000  418.000000  332.000000  418.000000   \n",
       "mean   1100.500000    0.363636    2.265550   30.272590    0.447368   \n",
       "std     120.810458    0.481622    0.841838   14.181209    0.896760   \n",
       "min     892.000000    0.000000    1.000000    0.170000    0.000000   \n",
       "25%     996.250000    0.000000    1.000000   21.000000    0.000000   \n",
       "50%    1100.500000    0.000000    3.000000   27.000000    0.000000   \n",
       "75%    1204.750000    1.000000    3.000000   39.000000    1.000000   \n",
       "max    1309.000000    1.000000    3.000000   76.000000    8.000000   \n",
       "\n",
       "            Parch        Fare  \n",
       "count  418.000000  418.000000  \n",
       "mean     0.392344   35.553655  \n",
       "std      0.981429   55.860735  \n",
       "min      0.000000    0.000000  \n",
       "25%      0.000000    7.895800  \n",
       "50%      0.000000   14.454200  \n",
       "75%      0.000000   31.471875  \n",
       "max      9.000000  512.329200  "
      ]
     },
     "execution_count": 6,
     "metadata": {},
     "output_type": "execute_result"
    }
   ],
   "source": [
    "dts.describe()"
   ]
  },
  {
   "cell_type": "code",
   "execution_count": 7,
   "id": "5ab825ad-d06b-4c75-91dc-e5da7aea1059",
   "metadata": {},
   "outputs": [
    {
     "name": "stdout",
     "output_type": "stream",
     "text": [
      "<class 'pandas.core.frame.DataFrame'>\n",
      "RangeIndex: 418 entries, 0 to 417\n",
      "Data columns (total 12 columns):\n",
      " #   Column       Non-Null Count  Dtype  \n",
      "---  ------       --------------  -----  \n",
      " 0   PassengerId  418 non-null    int64  \n",
      " 1   Survived     418 non-null    int64  \n",
      " 2   Pclass       418 non-null    int64  \n",
      " 3   Name         418 non-null    object \n",
      " 4   Sex          418 non-null    object \n",
      " 5   Age          332 non-null    float64\n",
      " 6   SibSp        418 non-null    int64  \n",
      " 7   Parch        418 non-null    int64  \n",
      " 8   Ticket       418 non-null    object \n",
      " 9   Fare         418 non-null    float64\n",
      " 10  Cabin        91 non-null     object \n",
      " 11  Embarked     418 non-null    object \n",
      "dtypes: float64(2), int64(5), object(5)\n",
      "memory usage: 39.3+ KB\n"
     ]
    }
   ],
   "source": [
    "dts.info()"
   ]
  },
  {
   "cell_type": "code",
   "execution_count": 8,
   "id": "4ebbf4f3-dc7d-4643-803b-18cf43ed8688",
   "metadata": {},
   "outputs": [
    {
     "data": {
      "text/plain": [
       "30.272590361445783"
      ]
     },
     "execution_count": 8,
     "metadata": {},
     "output_type": "execute_result"
    }
   ],
   "source": [
    "dts[\"Age\"].mean()"
   ]
  },
  {
   "cell_type": "code",
   "execution_count": 9,
   "id": "42a1943b-72c0-4da4-b53a-7c5151e9028d",
   "metadata": {},
   "outputs": [
    {
     "data": {
      "text/plain": [
       "30.272590361445783"
      ]
     },
     "execution_count": 9,
     "metadata": {},
     "output_type": "execute_result"
    }
   ],
   "source": [
    "mn = np.mean(dts[\"Age\"])\n",
    "mn"
   ]
  },
  {
   "cell_type": "code",
   "execution_count": 10,
   "id": "e0c3a85c-f676-469f-a2d8-cd72ada122c7",
   "metadata": {},
   "outputs": [
    {
     "data": {
      "image/png": "[encoded data removed]",
      "text/plain": [
       "<Figure size 640x480 with 1 Axes>"
      ]
     },
     "metadata": {},
     "output_type": "display_data"
    }
   ],
   "source": [
    "sns.histplot(x=\"Age\",data=dts,bins=[i for i in range(0,81,10)])\n",
    "plt.plot([mn for i in range(0,200)],[i for i in range(0,200)],c = \"red\")\n",
    "plt.show()"
   ]
  },
  {
   "cell_type": "markdown",
   "id": "e3fa2fd9-264d-457b-a1c6-accd1b10c59e",
   "metadata": {},
   "source": [
    "#### MEDIAN \n",
    "##### Middle element"
   ]
  },
  {
   "cell_type": "code",
   "execution_count": 11,
   "id": "f70ea8d1-ae9c-4e78-84d5-998dc82f2d64",
   "metadata": {},
   "outputs": [
    {
     "data": {
      "text/plain": [
       "PassengerId      0\n",
       "Survived         0\n",
       "Pclass           0\n",
       "Name             0\n",
       "Sex              0\n",
       "Age             86\n",
       "SibSp            0\n",
       "Parch            0\n",
       "Ticket           0\n",
       "Fare             0\n",
       "Cabin          327\n",
       "Embarked         0\n",
       "dtype: int64"
      ]
     },
     "execution_count": 11,
     "metadata": {},
     "output_type": "execute_result"
    }
   ],
   "source": [
    "# Checking if the data set contains null values\n",
    "dts.isnull().sum()"
   ]
  },
  {
   "cell_type": "code",
   "execution_count": 12,
   "id": "4e0c550b-a398-471f-a914-1ed61c6b4e03",
   "metadata": {},
   "outputs": [
    {
     "data": {
      "text/plain": [
       "nan"
      ]
     },
     "execution_count": 12,
     "metadata": {},
     "output_type": "execute_result"
    }
   ],
   "source": [
    "np.median(dts[\"Age\"])"
   ]
  },
  {
   "cell_type": "markdown",
   "id": "7287a9b1-8c05-4337-bbe5-951038a40aac",
   "metadata": {},
   "source": [
    "#### Filling the null values in the data set"
   ]
  },
  {
   "cell_type": "code",
   "execution_count": 13,
   "id": "26d56c15-3a70-4913-b3f5-27ae0852e2b2",
   "metadata": {},
   "outputs": [
    {
     "name": "stderr",
     "output_type": "stream",
     "text": [
      "/tmp/ipykernel_42293/2425410501.py:1: FutureWarning: A value is trying to be set on a copy of a DataFrame or Series through chained assignment using an inplace method.\n",
      "The behavior will change in pandas 3.0. This inplace method will never work because the intermediate object on which we are setting values always behaves as a copy.\n",
      "\n",
      "For example, when doing 'df[col].method(value, inplace=True)', try using 'df.method({col: value}, inplace=True)' or df[col] = df[col].method(value) instead, to perform the operation inplace on the original object.\n",
      "\n",
      "\n",
      "  dts[\"Age\"].fillna(dts[\"Age\"].mean(),inplace=True)\n"
     ]
    }
   ],
   "source": [
    "dts[\"Age\"].fillna(dts[\"Age\"].mean(),inplace=True)"
   ]
  },
  {
   "cell_type": "code",
   "execution_count": 14,
   "id": "34e4a0e8-5745-492f-9f72-070fa1bd8ece",
   "metadata": {},
   "outputs": [
    {
     "name": "stderr",
     "output_type": "stream",
     "text": [
      "/tmp/ipykernel_42293/2524281053.py:1: FutureWarning: A value is trying to be set on a copy of a DataFrame or Series through chained assignment using an inplace method.\n",
      "The behavior will change in pandas 3.0. This inplace method will never work because the intermediate object on which we are setting values always behaves as a copy.\n",
      "\n",
      "For example, when doing 'df[col].method(value, inplace=True)', try using 'df.method({col: value}, inplace=True)' or df[col] = df[col].method(value) instead, to perform the operation inplace on the original object.\n",
      "\n",
      "\n",
      "  dts[\"Fare\"].fillna(dts[\"Fare\"].mean(),inplace=True)\n"
     ]
    }
   ],
   "source": [
    "dts[\"Fare\"].fillna(dts[\"Fare\"].mean(),inplace=True)"
   ]
  },
  {
   "cell_type": "code",
   "execution_count": 15,
   "id": "53fa9cff-2e1a-4e32-b9f2-1db46a208065",
   "metadata": {},
   "outputs": [
    {
     "data": {
      "text/plain": [
       "PassengerId      0\n",
       "Survived         0\n",
       "Pclass           0\n",
       "Name             0\n",
       "Sex              0\n",
       "Age              0\n",
       "SibSp            0\n",
       "Parch            0\n",
       "Ticket           0\n",
       "Fare             0\n",
       "Cabin          327\n",
       "Embarked         0\n",
       "dtype: int64"
      ]
     },
     "execution_count": 15,
     "metadata": {},
     "output_type": "execute_result"
    }
   ],
   "source": [
    "dts.isnull().sum()"
   ]
  },
  {
   "cell_type": "code",
   "execution_count": 16,
   "id": "31c71551-f37c-4a48-86d3-4a70df4bce77",
   "metadata": {},
   "outputs": [
    {
     "data": {
      "text/plain": [
       "30.272590361445783"
      ]
     },
     "execution_count": 16,
     "metadata": {},
     "output_type": "execute_result"
    }
   ],
   "source": [
    "np.median(dts[\"Age\"])"
   ]
  },
  {
   "cell_type": "code",
   "execution_count": 17,
   "id": "3a724e23-c026-4c83-92c6-04ee88a5046f",
   "metadata": {},
   "outputs": [
    {
     "data": {
      "text/plain": [
       "14.4542"
      ]
     },
     "execution_count": 17,
     "metadata": {},
     "output_type": "execute_result"
    }
   ],
   "source": [
    "dts[\"Fare\"].median()"
   ]
  },
  {
   "cell_type": "code",
   "execution_count": 18,
   "id": "abbf5b3d-e99e-4dcd-91b3-14bf18feb5f9",
   "metadata": {},
   "outputs": [
    {
     "data": {
      "text/plain": [
       "14.4542"
      ]
     },
     "execution_count": 18,
     "metadata": {},
     "output_type": "execute_result"
    }
   ],
   "source": [
    "med = np.median(dts[\"Fare\"])\n",
    "med"
   ]
  },
  {
   "cell_type": "code",
   "execution_count": 19,
   "id": "3a519c31-ab43-46ba-bd3c-2afcd46b949e",
   "metadata": {},
   "outputs": [
    {
     "data": {
      "text/plain": [
       "35.55365454545454"
      ]
     },
     "execution_count": 19,
     "metadata": {},
     "output_type": "execute_result"
    }
   ],
   "source": [
    "dts[\"Fare\"].mean()"
   ]
  },
  {
   "cell_type": "code",
   "execution_count": 20,
   "id": "34acfec8-71be-47af-a9f2-782e734fc54d",
   "metadata": {},
   "outputs": [
    {
     "data": {
      "image/png": "[encoded data removed]",
      "text/plain": [
       "<Figure size 640x480 with 1 Axes>"
      ]
     },
     "metadata": {},
     "output_type": "display_data"
    }
   ],
   "source": [
    "sns.histplot(x=\"Age\",data=dts,bins=[i for i in range(0,81,10)])\n",
    "plt.plot([mn for i in range(0,200)],[i for i in range(0,200)],c = \"red\")\n",
    "plt.plot([med for i in range(0,200)],[i for i in range(0,200)],c = \"green\")\n",
    "plt.show()"
   ]
  },
  {
   "cell_type": "markdown",
   "id": "7de97508-30dd-43dd-8a4c-c23985c0e88b",
   "metadata": {},
   "source": [
    "#### MODE\n",
    "##### Most-occuring element"
   ]
  },
  {
   "cell_type": "code",
   "execution_count": 21,
   "id": "1d83ff73-2e78-47f5-8681-a0b569d32d77",
   "metadata": {},
   "outputs": [
    {
     "data": {
      "text/plain": [
       "pandas.core.series.Series"
      ]
     },
     "execution_count": 21,
     "metadata": {},
     "output_type": "execute_result"
    }
   ],
   "source": [
    "type(dts[\"Fare\"].mode())"
   ]
  },
  {
   "cell_type": "code",
   "execution_count": 22,
   "id": "4541da29-b4a8-45bd-89f8-268f60067b23",
   "metadata": {},
   "outputs": [
    {
     "data": {
      "text/plain": [
       "0    7.75\n",
       "Name: Fare, dtype: float64"
      ]
     },
     "execution_count": 22,
     "metadata": {},
     "output_type": "execute_result"
    }
   ],
   "source": [
    "dts[\"Fare\"].mode()"
   ]
  },
  {
   "cell_type": "code",
   "execution_count": 23,
   "id": "cbd7cb82-6621-4bf2-ba59-62370cc52e4e",
   "metadata": {},
   "outputs": [
    {
     "data": {
      "text/plain": [
       "7.75"
      ]
     },
     "execution_count": 23,
     "metadata": {},
     "output_type": "execute_result"
    }
   ],
   "source": [
    "mod = dts[\"Fare\"].mode()[0]\n",
    "mod"
   ]
  },
  {
   "cell_type": "code",
   "execution_count": 24,
   "id": "fcfc7a1d-f3ec-4e59-911b-8bd3fa18820f",
   "metadata": {},
   "outputs": [
    {
     "data": {
      "text/plain": [
       "Fare\n",
       "7.7500     21\n",
       "26.0000    19\n",
       "8.0500     17\n",
       "13.0000    17\n",
       "10.5000    11\n",
       "           ..\n",
       "8.7125      1\n",
       "7.8208      1\n",
       "8.5167      1\n",
       "78.8500     1\n",
       "22.3583     1\n",
       "Name: count, Length: 170, dtype: int64"
      ]
     },
     "execution_count": 24,
     "metadata": {},
     "output_type": "execute_result"
    }
   ],
   "source": [
    "dts[\"Fare\"].value_counts()"
   ]
  },
  {
   "cell_type": "code",
   "execution_count": 25,
   "id": "80e47d5c-e4ec-4be2-827b-5be634f935e4",
   "metadata": {},
   "outputs": [
    {
     "data": {
      "image/png": "[encoded data removed]",
      "text/plain": [
       "<Figure size 640x480 with 1 Axes>"
      ]
     },
     "metadata": {},
     "output_type": "display_data"
    }
   ],
   "source": [
    "sns.histplot(x=\"Age\",data=dts,bins=[i for i in range(0,81,10)])\n",
    "plt.plot([mn for i in range(0,200)],[i for i in range(0,200)],c = \"red\",label=\"mean\")\n",
    "plt.plot([med for i in range(0,200)],[i for i in range(0,200)],c = \"green\",label=\"median\")\n",
    "plt.plot([mod for i in range(0,200)],[i for i in range(0,200)],c = \"blue\",label=\"mode\")\n",
    "plt.legend()\n",
    "plt.show()"
   ]
  },
  {
   "cell_type": "markdown",
   "id": "a33f72b0-44b7-4894-8a0c-3f734d39ce19",
   "metadata": {},
   "source": [
    "### 2)Measure Of Variability - Spreadness"
   ]
  },
  {
   "cell_type": "markdown",
   "id": "bac5baff-8f18-4e9f-8ae5-d3314474958a",
   "metadata": {},
   "source": [
    "#### RANGE  :- MAX-MIN"
   ]
  },
  {
   "cell_type": "code",
   "execution_count": 26,
   "id": "ce27bd70-0f1d-47b1-8910-8c8c21ae7bf6",
   "metadata": {},
   "outputs": [],
   "source": [
    "min_d = dts[\"Age\"].min()\n",
    "max_d = dts[\"Age\"].max()"
   ]
  },
  {
   "cell_type": "code",
   "execution_count": 27,
   "id": "9e424c0b-c82c-4f38-9cf1-dbb7263aeaed",
   "metadata": {},
   "outputs": [
    {
     "data": {
      "text/plain": [
       "(0.17, 76.0)"
      ]
     },
     "execution_count": 27,
     "metadata": {},
     "output_type": "execute_result"
    }
   ],
   "source": [
    "min_d,max_d"
   ]
  },
  {
   "cell_type": "code",
   "execution_count": 28,
   "id": "44c15e07-ed2b-40d9-9e12-f2a6752414dc",
   "metadata": {},
   "outputs": [
    {
     "data": {
      "text/plain": [
       "75.83"
      ]
     },
     "execution_count": 28,
     "metadata": {},
     "output_type": "execute_result"
    }
   ],
   "source": [
    "range1 = max_d - min_d\n",
    "range1"
   ]
  },
  {
   "cell_type": "code",
   "execution_count": 29,
   "id": "0ce8819c-a193-404f-a22a-d35dae25ec3b",
   "metadata": {},
   "outputs": [],
   "source": [
    "min_r = dts[\"Fare\"].min()\n",
    "max_r = dts[\"Fare\"].max()"
   ]
  },
  {
   "cell_type": "code",
   "execution_count": 30,
   "id": "875194d6-e273-44cd-adbd-712814da674c",
   "metadata": {},
   "outputs": [
    {
     "data": {
      "text/plain": [
       "(0.0, 512.3292)"
      ]
     },
     "execution_count": 30,
     "metadata": {},
     "output_type": "execute_result"
    }
   ],
   "source": [
    "min_r,max_r"
   ]
  },
  {
   "cell_type": "code",
   "execution_count": 31,
   "id": "08327e40-ac4c-40bd-80d5-a3629ff6633c",
   "metadata": {},
   "outputs": [
    {
     "data": {
      "text/plain": [
       "512.3292"
      ]
     },
     "execution_count": 31,
     "metadata": {},
     "output_type": "execute_result"
    }
   ],
   "source": [
    "range2 = max_r - min_r\n",
    "range2"
   ]
  },
  {
   "cell_type": "code",
   "execution_count": 32,
   "id": "7bc4b3ac-86c3-4193-865f-4db2dea318d0",
   "metadata": {},
   "outputs": [
    {
     "data": {
      "text/html": [
       "<div>\n",
       "<style scoped>\n",
       "    .dataframe tbody tr th:only-of-type {\n",
       "        vertical-align: middle;\n",
       "    }\n",
       "\n",
       "    .dataframe tbody tr th {\n",
       "        vertical-align: top;\n",
       "    }\n",
       "\n",
       "    .dataframe thead th {\n",
       "        text-align: right;\n",
       "    }\n",
       "</style>\n",
       "<table border=\"1\" class=\"dataframe\">\n",
       "  <thead>\n",
       "    <tr style=\"text-align: right;\">\n",
       "      <th></th>\n",
       "      <th>total_bill</th>\n",
       "      <th>tip</th>\n",
       "      <th>sex</th>\n",
       "      <th>smoker</th>\n",
       "      <th>day</th>\n",
       "      <th>time</th>\n",
       "      <th>size</th>\n",
       "    </tr>\n",
       "  </thead>\n",
       "  <tbody>\n",
       "    <tr>\n",
       "      <th>0</th>\n",
       "      <td>16.99</td>\n",
       "      <td>1.01</td>\n",
       "      <td>Female</td>\n",
       "      <td>No</td>\n",
       "      <td>Sun</td>\n",
       "      <td>Dinner</td>\n",
       "      <td>2</td>\n",
       "    </tr>\n",
       "    <tr>\n",
       "      <th>1</th>\n",
       "      <td>10.34</td>\n",
       "      <td>1.66</td>\n",
       "      <td>Male</td>\n",
       "      <td>No</td>\n",
       "      <td>Sun</td>\n",
       "      <td>Dinner</td>\n",
       "      <td>3</td>\n",
       "    </tr>\n",
       "    <tr>\n",
       "      <th>2</th>\n",
       "      <td>21.01</td>\n",
       "      <td>3.50</td>\n",
       "      <td>Male</td>\n",
       "      <td>No</td>\n",
       "      <td>Sun</td>\n",
       "      <td>Dinner</td>\n",
       "      <td>3</td>\n",
       "    </tr>\n",
       "  </tbody>\n",
       "</table>\n",
       "</div>"
      ],
      "text/plain": [
       "   total_bill   tip     sex smoker  day    time  size\n",
       "0       16.99  1.01  Female     No  Sun  Dinner     2\n",
       "1       10.34  1.66    Male     No  Sun  Dinner     3\n",
       "2       21.01  3.50    Male     No  Sun  Dinner     3"
      ]
     },
     "execution_count": 32,
     "metadata": {},
     "output_type": "execute_result"
    }
   ],
   "source": [
    "d1 = pd.read_csv(\"tips.csv\")\n",
    "d1.head(3)"
   ]
  },
  {
   "cell_type": "code",
   "execution_count": 33,
   "id": "147d7fea-76c3-4824-84ec-3b1c4feda95d",
   "metadata": {},
   "outputs": [],
   "source": [
    "mind = d1[\"total_bill\"].min()\n",
    "maxd = d1[\"total_bill\"].max()"
   ]
  },
  {
   "cell_type": "code",
   "execution_count": 34,
   "id": "3622aa15-2234-41f8-8949-89e0eadec427",
   "metadata": {},
   "outputs": [
    {
     "data": {
      "text/plain": [
       "(3.07, 50.81)"
      ]
     },
     "execution_count": 34,
     "metadata": {},
     "output_type": "execute_result"
    }
   ],
   "source": [
    "mind,maxd"
   ]
  },
  {
   "cell_type": "code",
   "execution_count": 35,
   "id": "66af7e78-e0a4-483a-98ad-f79550dd0d0f",
   "metadata": {},
   "outputs": [
    {
     "data": {
      "text/plain": [
       "47.74"
      ]
     },
     "execution_count": 35,
     "metadata": {},
     "output_type": "execute_result"
    }
   ],
   "source": [
    "range2 = maxd - mind\n",
    "range2"
   ]
  },
  {
   "cell_type": "markdown",
   "id": "66a0d5cb-ff80-479f-88fd-4f860494836d",
   "metadata": {},
   "source": [
    "#### MAD - MEAN ABSOLUTE DEVIATION"
   ]
  },
  {
   "cell_type": "code",
   "execution_count": 36,
   "id": "3d1d32ff-55f4-4996-ab4a-8884fd863781",
   "metadata": {},
   "outputs": [],
   "source": [
    "sec1 = np.array([75,65,73,68,72,67])\n",
    "sec2 = np.array([90,47,43,96,93,51])\n",
    "no = np.array([1,2,3,4,5,6])"
   ]
  },
  {
   "cell_type": "code",
   "execution_count": 37,
   "id": "e7f8d246-d038-41a5-8c72-92823193fa42",
   "metadata": {},
   "outputs": [
    {
     "data": {
      "text/plain": [
       "70.0"
      ]
     },
     "execution_count": 37,
     "metadata": {},
     "output_type": "execute_result"
    }
   ],
   "source": [
    "a = np.mean(sec1)\n",
    "a"
   ]
  },
  {
   "cell_type": "code",
   "execution_count": 38,
   "id": "701a7aa8-8b3a-4c7a-8907-118b7fae8ac7",
   "metadata": {},
   "outputs": [
    {
     "data": {
      "text/plain": [
       "70.0"
      ]
     },
     "execution_count": 38,
     "metadata": {},
     "output_type": "execute_result"
    }
   ],
   "source": [
    "b = np.mean(sec2)\n",
    "b"
   ]
  },
  {
   "cell_type": "code",
   "execution_count": 39,
   "id": "f4488b16-08a5-4f95-8007-ccb64aa5f0f5",
   "metadata": {},
   "outputs": [],
   "source": [
    "mn = [70,70,70,70,70,70]"
   ]
  },
  {
   "cell_type": "code",
   "execution_count": 40,
   "id": "ae6a1a1b-33f5-4d84-b3bd-914989b4cdd3",
   "metadata": {},
   "outputs": [
    {
     "data": {
      "image/png": "[encoded data removed]",
      "text/plain": [
       "<Figure size 1000x400 with 1 Axes>"
      ]
     },
     "metadata": {},
     "output_type": "display_data"
    }
   ],
   "source": [
    "plt.figure(figsize=(10,4))\n",
    "plt.scatter(sec1,no,label=\"sec1\")\n",
    "plt.scatter(sec2,no,c=\"red\",label=\"sec2\")\n",
    "plt.plot(mn,no,c=\"green\",label=\"Mean\")\n",
    "plt.legend()\n",
    "plt.show()"
   ]
  },
  {
   "cell_type": "code",
   "execution_count": 41,
   "id": "ae829c98-3f9b-4fee-bcdc-042abb3e073c",
   "metadata": {},
   "outputs": [
    {
     "data": {
      "text/plain": [
       "(3.3333333333333335, 23.0)"
      ]
     },
     "execution_count": 41,
     "metadata": {},
     "output_type": "execute_result"
    }
   ],
   "source": [
    "mad1 = np.sum(np.abs(sec1-sec1.mean()))/len(sec1)\n",
    "mad2 = np.sum(np.abs(sec2-sec2.mean()))/len(sec2)\n",
    "mad1,mad2"
   ]
  },
  {
   "cell_type": "code",
   "execution_count": 42,
   "id": "1c722ab9-37e4-4114-8f03-1c7a894f36c4",
   "metadata": {},
   "outputs": [
    {
     "data": {
      "text/plain": [
       "(3.3333333333333335, 23.0)"
      ]
     },
     "execution_count": 42,
     "metadata": {},
     "output_type": "execute_result"
    }
   ],
   "source": [
    "m1 = np.mean(np.abs(sec1-sec1.mean()))\n",
    "m2 = np.mean(np.abs(sec2-sec2.mean()))\n",
    "m1,m2"
   ]
  },
  {
   "cell_type": "markdown",
   "id": "9fa5e867-9db1-4bae-b95b-a4ca145a95e1",
   "metadata": {},
   "source": [
    "#### VARIANCE\n",
    "##### It is a measure of how data points differ from mean"
   ]
  },
  {
   "cell_type": "code",
   "execution_count": 43,
   "id": "ff029be6-0ab0-4a5f-9ae0-460e7a17a838",
   "metadata": {},
   "outputs": [
    {
     "data": {
      "text/plain": [
       "(12.666666666666666, 537.3333333333334)"
      ]
     },
     "execution_count": 43,
     "metadata": {},
     "output_type": "execute_result"
    }
   ],
   "source": [
    "np.var(sec1),np.var(sec2)"
   ]
  },
  {
   "cell_type": "code",
   "execution_count": 44,
   "id": "0dd85d78-dbae-4e0e-978d-79c7bd1984ae",
   "metadata": {},
   "outputs": [
    {
     "data": {
      "text/plain": [
       "(12.666666666666666, 537.3333333333334)"
      ]
     },
     "execution_count": 44,
     "metadata": {},
     "output_type": "execute_result"
    }
   ],
   "source": [
    "var1 = np.sum(np.abs(sec1-sec1.mean())**2)/len(sec1)\n",
    "var2 = np.sum(np.abs(sec2-sec2.mean())**2)/len(sec2)\n",
    "var1,var2"
   ]
  },
  {
   "cell_type": "code",
   "execution_count": 45,
   "id": "680f786d-aad2-423f-b376-aa968d0d032b",
   "metadata": {},
   "outputs": [
    {
     "data": {
      "text/html": [
       "<div>\n",
       "<style scoped>\n",
       "    .dataframe tbody tr th:only-of-type {\n",
       "        vertical-align: middle;\n",
       "    }\n",
       "\n",
       "    .dataframe tbody tr th {\n",
       "        vertical-align: top;\n",
       "    }\n",
       "\n",
       "    .dataframe thead th {\n",
       "        text-align: right;\n",
       "    }\n",
       "</style>\n",
       "<table border=\"1\" class=\"dataframe\">\n",
       "  <thead>\n",
       "    <tr style=\"text-align: right;\">\n",
       "      <th></th>\n",
       "      <th>PassengerId</th>\n",
       "      <th>Survived</th>\n",
       "      <th>Pclass</th>\n",
       "      <th>Name</th>\n",
       "      <th>Sex</th>\n",
       "      <th>Age</th>\n",
       "      <th>SibSp</th>\n",
       "      <th>Parch</th>\n",
       "      <th>Ticket</th>\n",
       "      <th>Fare</th>\n",
       "      <th>Cabin</th>\n",
       "      <th>Embarked</th>\n",
       "    </tr>\n",
       "  </thead>\n",
       "  <tbody>\n",
       "    <tr>\n",
       "      <th>0</th>\n",
       "      <td>892</td>\n",
       "      <td>0</td>\n",
       "      <td>3</td>\n",
       "      <td>Kelly, Mr. James</td>\n",
       "      <td>male</td>\n",
       "      <td>34.5</td>\n",
       "      <td>0</td>\n",
       "      <td>0</td>\n",
       "      <td>330911</td>\n",
       "      <td>7.8292</td>\n",
       "      <td>NaN</td>\n",
       "      <td>Q</td>\n",
       "    </tr>\n",
       "    <tr>\n",
       "      <th>1</th>\n",
       "      <td>893</td>\n",
       "      <td>1</td>\n",
       "      <td>3</td>\n",
       "      <td>Wilkes, Mrs. James (Ellen Needs)</td>\n",
       "      <td>female</td>\n",
       "      <td>47.0</td>\n",
       "      <td>1</td>\n",
       "      <td>0</td>\n",
       "      <td>363272</td>\n",
       "      <td>7.0000</td>\n",
       "      <td>NaN</td>\n",
       "      <td>S</td>\n",
       "    </tr>\n",
       "    <tr>\n",
       "      <th>2</th>\n",
       "      <td>894</td>\n",
       "      <td>0</td>\n",
       "      <td>2</td>\n",
       "      <td>Myles, Mr. Thomas Francis</td>\n",
       "      <td>male</td>\n",
       "      <td>62.0</td>\n",
       "      <td>0</td>\n",
       "      <td>0</td>\n",
       "      <td>240276</td>\n",
       "      <td>9.6875</td>\n",
       "      <td>NaN</td>\n",
       "      <td>Q</td>\n",
       "    </tr>\n",
       "    <tr>\n",
       "      <th>3</th>\n",
       "      <td>895</td>\n",
       "      <td>0</td>\n",
       "      <td>3</td>\n",
       "      <td>Wirz, Mr. Albert</td>\n",
       "      <td>male</td>\n",
       "      <td>27.0</td>\n",
       "      <td>0</td>\n",
       "      <td>0</td>\n",
       "      <td>315154</td>\n",
       "      <td>8.6625</td>\n",
       "      <td>NaN</td>\n",
       "      <td>S</td>\n",
       "    </tr>\n",
       "    <tr>\n",
       "      <th>4</th>\n",
       "      <td>896</td>\n",
       "      <td>1</td>\n",
       "      <td>3</td>\n",
       "      <td>Hirvonen, Mrs. Alexander (Helga E Lindqvist)</td>\n",
       "      <td>female</td>\n",
       "      <td>22.0</td>\n",
       "      <td>1</td>\n",
       "      <td>1</td>\n",
       "      <td>3101298</td>\n",
       "      <td>12.2875</td>\n",
       "      <td>NaN</td>\n",
       "      <td>S</td>\n",
       "    </tr>\n",
       "  </tbody>\n",
       "</table>\n",
       "</div>"
      ],
      "text/plain": [
       "   PassengerId  Survived  Pclass  \\\n",
       "0          892         0       3   \n",
       "1          893         1       3   \n",
       "2          894         0       2   \n",
       "3          895         0       3   \n",
       "4          896         1       3   \n",
       "\n",
       "                                           Name     Sex   Age  SibSp  Parch  \\\n",
       "0                              Kelly, Mr. James    male  34.5      0      0   \n",
       "1              Wilkes, Mrs. James (Ellen Needs)  female  47.0      1      0   \n",
       "2                     Myles, Mr. Thomas Francis    male  62.0      0      0   \n",
       "3                              Wirz, Mr. Albert    male  27.0      0      0   \n",
       "4  Hirvonen, Mrs. Alexander (Helga E Lindqvist)  female  22.0      1      1   \n",
       "\n",
       "    Ticket     Fare Cabin Embarked  \n",
       "0   330911   7.8292   NaN        Q  \n",
       "1   363272   7.0000   NaN        S  \n",
       "2   240276   9.6875   NaN        Q  \n",
       "3   315154   8.6625   NaN        S  \n",
       "4  3101298  12.2875   NaN        S  "
      ]
     },
     "execution_count": 45,
     "metadata": {},
     "output_type": "execute_result"
    }
   ],
   "source": [
    "dataset1 = pd.read_csv(\"titanic.csv\")\n",
    "dataset1.head()"
   ]
  },
  {
   "cell_type": "code",
   "execution_count": 46,
   "id": "6470ef05-ec85-4246-974d-8bbb63fcda03",
   "metadata": {},
   "outputs": [
    {
     "data": {
      "image/png": "[encoded data removed]",
      "text/plain": [
       "<Figure size 640x480 with 1 Axes>"
      ]
     },
     "metadata": {},
     "output_type": "display_data"
    }
   ],
   "source": [
    "sns.histplot(x=\"Age\",data=dataset1)\n",
    "plt.show()"
   ]
  },
  {
   "cell_type": "code",
   "execution_count": 47,
   "id": "52a81971-5bfa-44e8-97d7-7df24fca2c71",
   "metadata": {},
   "outputs": [
    {
     "data": {
      "text/plain": [
       "201.10669538455943"
      ]
     },
     "execution_count": 47,
     "metadata": {},
     "output_type": "execute_result"
    }
   ],
   "source": [
    "dataset1[\"Age\"].var()"
   ]
  },
  {
   "cell_type": "markdown",
   "id": "d4dbc731-8f71-4caa-a73d-aedf5b69d4c6",
   "metadata": {},
   "source": [
    "#### STANDARD DEVIATION\n",
    "##### It is the amount of variation or dispersion of a set of values"
   ]
  },
  {
   "cell_type": "code",
   "execution_count": 48,
   "id": "e1bfb052-7c87-47d6-aeb3-859799fc3344",
   "metadata": {},
   "outputs": [
    {
     "data": {
      "text/plain": [
       "(3.559026084010437, 23.18045153428495)"
      ]
     },
     "execution_count": 48,
     "metadata": {},
     "output_type": "execute_result"
    }
   ],
   "source": [
    "np.std(sec1),np.std(sec2)"
   ]
  },
  {
   "cell_type": "code",
   "execution_count": 49,
   "id": "50241501-3796-4686-95df-b6d694eaae5e",
   "metadata": {},
   "outputs": [
    {
     "data": {
      "text/plain": [
       "(3.559026084010437, 23.18045153428495)"
      ]
     },
     "execution_count": 49,
     "metadata": {},
     "output_type": "execute_result"
    }
   ],
   "source": [
    "std1 = np.sqrt(np.sum(np.abs(sec1-sec1.mean())**2)/len(sec1))\n",
    "std2 = np.sqrt(np.sum(np.abs(sec2-sec2.mean())**2)/len(sec2))\n",
    "std1,std2"
   ]
  },
  {
   "cell_type": "code",
   "execution_count": 50,
   "id": "3c132726-02cb-4db4-82e2-39e0f862b633",
   "metadata": {},
   "outputs": [
    {
     "data": {
      "text/plain": [
       "14.181209235624422"
      ]
     },
     "execution_count": 50,
     "metadata": {},
     "output_type": "execute_result"
    }
   ],
   "source": [
    "dataset1[\"Age\"].std()"
   ]
  },
  {
   "cell_type": "code",
   "execution_count": 51,
   "id": "6370b247-954a-4fea-b64a-c725caad54bd",
   "metadata": {},
   "outputs": [
    {
     "data": {
      "text/html": [
       "<div>\n",
       "<style scoped>\n",
       "    .dataframe tbody tr th:only-of-type {\n",
       "        vertical-align: middle;\n",
       "    }\n",
       "\n",
       "    .dataframe tbody tr th {\n",
       "        vertical-align: top;\n",
       "    }\n",
       "\n",
       "    .dataframe thead th {\n",
       "        text-align: right;\n",
       "    }\n",
       "</style>\n",
       "<table border=\"1\" class=\"dataframe\">\n",
       "  <thead>\n",
       "    <tr style=\"text-align: right;\">\n",
       "      <th></th>\n",
       "      <th>PassengerId</th>\n",
       "      <th>Survived</th>\n",
       "      <th>Pclass</th>\n",
       "      <th>Age</th>\n",
       "      <th>SibSp</th>\n",
       "      <th>Parch</th>\n",
       "      <th>Fare</th>\n",
       "    </tr>\n",
       "  </thead>\n",
       "  <tbody>\n",
       "    <tr>\n",
       "      <th>count</th>\n",
       "      <td>418.000000</td>\n",
       "      <td>418.000000</td>\n",
       "      <td>418.000000</td>\n",
       "      <td>332.000000</td>\n",
       "      <td>418.000000</td>\n",
       "      <td>418.000000</td>\n",
       "      <td>418.000000</td>\n",
       "    </tr>\n",
       "    <tr>\n",
       "      <th>mean</th>\n",
       "      <td>1100.500000</td>\n",
       "      <td>0.363636</td>\n",
       "      <td>2.265550</td>\n",
       "      <td>30.272590</td>\n",
       "      <td>0.447368</td>\n",
       "      <td>0.392344</td>\n",
       "      <td>35.553655</td>\n",
       "    </tr>\n",
       "    <tr>\n",
       "      <th>std</th>\n",
       "      <td>120.810458</td>\n",
       "      <td>0.481622</td>\n",
       "      <td>0.841838</td>\n",
       "      <td>14.181209</td>\n",
       "      <td>0.896760</td>\n",
       "      <td>0.981429</td>\n",
       "      <td>55.860735</td>\n",
       "    </tr>\n",
       "    <tr>\n",
       "      <th>min</th>\n",
       "      <td>892.000000</td>\n",
       "      <td>0.000000</td>\n",
       "      <td>1.000000</td>\n",
       "      <td>0.170000</td>\n",
       "      <td>0.000000</td>\n",
       "      <td>0.000000</td>\n",
       "      <td>0.000000</td>\n",
       "    </tr>\n",
       "    <tr>\n",
       "      <th>25%</th>\n",
       "      <td>996.250000</td>\n",
       "      <td>0.000000</td>\n",
       "      <td>1.000000</td>\n",
       "      <td>21.000000</td>\n",
       "      <td>0.000000</td>\n",
       "      <td>0.000000</td>\n",
       "      <td>7.895800</td>\n",
       "    </tr>\n",
       "    <tr>\n",
       "      <th>50%</th>\n",
       "      <td>1100.500000</td>\n",
       "      <td>0.000000</td>\n",
       "      <td>3.000000</td>\n",
       "      <td>27.000000</td>\n",
       "      <td>0.000000</td>\n",
       "      <td>0.000000</td>\n",
       "      <td>14.454200</td>\n",
       "    </tr>\n",
       "    <tr>\n",
       "      <th>75%</th>\n",
       "      <td>1204.750000</td>\n",
       "      <td>1.000000</td>\n",
       "      <td>3.000000</td>\n",
       "      <td>39.000000</td>\n",
       "      <td>1.000000</td>\n",
       "      <td>0.000000</td>\n",
       "      <td>31.471875</td>\n",
       "    </tr>\n",
       "    <tr>\n",
       "      <th>max</th>\n",
       "      <td>1309.000000</td>\n",
       "      <td>1.000000</td>\n",
       "      <td>3.000000</td>\n",
       "      <td>76.000000</td>\n",
       "      <td>8.000000</td>\n",
       "      <td>9.000000</td>\n",
       "      <td>512.329200</td>\n",
       "    </tr>\n",
       "  </tbody>\n",
       "</table>\n",
       "</div>"
      ],
      "text/plain": [
       "       PassengerId    Survived      Pclass         Age       SibSp  \\\n",
       "count   418.000000  418.000000  418.000000  332.000000  418.000000   \n",
       "mean   1100.500000    0.363636    2.265550   30.272590    0.447368   \n",
       "std     120.810458    0.481622    0.841838   14.181209    0.896760   \n",
       "min     892.000000    0.000000    1.000000    0.170000    0.000000   \n",
       "25%     996.250000    0.000000    1.000000   21.000000    0.000000   \n",
       "50%    1100.500000    0.000000    3.000000   27.000000    0.000000   \n",
       "75%    1204.750000    1.000000    3.000000   39.000000    1.000000   \n",
       "max    1309.000000    1.000000    3.000000   76.000000    8.000000   \n",
       "\n",
       "            Parch        Fare  \n",
       "count  418.000000  418.000000  \n",
       "mean     0.392344   35.553655  \n",
       "std      0.981429   55.860735  \n",
       "min      0.000000    0.000000  \n",
       "25%      0.000000    7.895800  \n",
       "50%      0.000000   14.454200  \n",
       "75%      0.000000   31.471875  \n",
       "max      9.000000  512.329200  "
      ]
     },
     "execution_count": 51,
     "metadata": {},
     "output_type": "execute_result"
    }
   ],
   "source": [
    "dataset1.describe()"
   ]
  },
  {
   "cell_type": "markdown",
   "id": "83fd8052-3fd4-4c6c-9edb-7829c2765aac",
   "metadata": {},
   "source": [
    "### 3)PERCENTILES & QUARTILES\n",
    "##### It is a vlaue below which a certain percentage of observation lies"
   ]
  },
  {
   "cell_type": "code",
   "execution_count": 114,
   "id": "1b33c3e8-5fac-490b-bf5e-8596f9ab7e51",
   "metadata": {},
   "outputs": [
    {
     "data": {
      "text/html": [
       "<div>\n",
       "<style scoped>\n",
       "    .dataframe tbody tr th:only-of-type {\n",
       "        vertical-align: middle;\n",
       "    }\n",
       "\n",
       "    .dataframe tbody tr th {\n",
       "        vertical-align: top;\n",
       "    }\n",
       "\n",
       "    .dataframe thead th {\n",
       "        text-align: right;\n",
       "    }\n",
       "</style>\n",
       "<table border=\"1\" class=\"dataframe\">\n",
       "  <thead>\n",
       "    <tr style=\"text-align: right;\">\n",
       "      <th></th>\n",
       "      <th>PassengerId</th>\n",
       "      <th>Survived</th>\n",
       "      <th>Pclass</th>\n",
       "      <th>Name</th>\n",
       "      <th>Sex</th>\n",
       "      <th>Age</th>\n",
       "      <th>SibSp</th>\n",
       "      <th>Parch</th>\n",
       "      <th>Ticket</th>\n",
       "      <th>Fare</th>\n",
       "      <th>Cabin</th>\n",
       "      <th>Embarked</th>\n",
       "    </tr>\n",
       "  </thead>\n",
       "  <tbody>\n",
       "    <tr>\n",
       "      <th>0</th>\n",
       "      <td>892</td>\n",
       "      <td>0</td>\n",
       "      <td>3</td>\n",
       "      <td>Kelly, Mr. James</td>\n",
       "      <td>male</td>\n",
       "      <td>34.5</td>\n",
       "      <td>0</td>\n",
       "      <td>0</td>\n",
       "      <td>330911</td>\n",
       "      <td>7.8292</td>\n",
       "      <td>NaN</td>\n",
       "      <td>Q</td>\n",
       "    </tr>\n",
       "    <tr>\n",
       "      <th>1</th>\n",
       "      <td>893</td>\n",
       "      <td>1</td>\n",
       "      <td>3</td>\n",
       "      <td>Wilkes, Mrs. James (Ellen Needs)</td>\n",
       "      <td>female</td>\n",
       "      <td>47.0</td>\n",
       "      <td>1</td>\n",
       "      <td>0</td>\n",
       "      <td>363272</td>\n",
       "      <td>7.0000</td>\n",
       "      <td>NaN</td>\n",
       "      <td>S</td>\n",
       "    </tr>\n",
       "    <tr>\n",
       "      <th>2</th>\n",
       "      <td>894</td>\n",
       "      <td>0</td>\n",
       "      <td>2</td>\n",
       "      <td>Myles, Mr. Thomas Francis</td>\n",
       "      <td>male</td>\n",
       "      <td>62.0</td>\n",
       "      <td>0</td>\n",
       "      <td>0</td>\n",
       "      <td>240276</td>\n",
       "      <td>9.6875</td>\n",
       "      <td>NaN</td>\n",
       "      <td>Q</td>\n",
       "    </tr>\n",
       "    <tr>\n",
       "      <th>3</th>\n",
       "      <td>895</td>\n",
       "      <td>0</td>\n",
       "      <td>3</td>\n",
       "      <td>Wirz, Mr. Albert</td>\n",
       "      <td>male</td>\n",
       "      <td>27.0</td>\n",
       "      <td>0</td>\n",
       "      <td>0</td>\n",
       "      <td>315154</td>\n",
       "      <td>8.6625</td>\n",
       "      <td>NaN</td>\n",
       "      <td>S</td>\n",
       "    </tr>\n",
       "    <tr>\n",
       "      <th>4</th>\n",
       "      <td>896</td>\n",
       "      <td>1</td>\n",
       "      <td>3</td>\n",
       "      <td>Hirvonen, Mrs. Alexander (Helga E Lindqvist)</td>\n",
       "      <td>female</td>\n",
       "      <td>22.0</td>\n",
       "      <td>1</td>\n",
       "      <td>1</td>\n",
       "      <td>3101298</td>\n",
       "      <td>12.2875</td>\n",
       "      <td>NaN</td>\n",
       "      <td>S</td>\n",
       "    </tr>\n",
       "  </tbody>\n",
       "</table>\n",
       "</div>"
      ],
      "text/plain": [
       "   PassengerId  Survived  Pclass  \\\n",
       "0          892         0       3   \n",
       "1          893         1       3   \n",
       "2          894         0       2   \n",
       "3          895         0       3   \n",
       "4          896         1       3   \n",
       "\n",
       "                                           Name     Sex   Age  SibSp  Parch  \\\n",
       "0                              Kelly, Mr. James    male  34.5      0      0   \n",
       "1              Wilkes, Mrs. James (Ellen Needs)  female  47.0      1      0   \n",
       "2                     Myles, Mr. Thomas Francis    male  62.0      0      0   \n",
       "3                              Wirz, Mr. Albert    male  27.0      0      0   \n",
       "4  Hirvonen, Mrs. Alexander (Helga E Lindqvist)  female  22.0      1      1   \n",
       "\n",
       "    Ticket     Fare Cabin Embarked  \n",
       "0   330911   7.8292   NaN        Q  \n",
       "1   363272   7.0000   NaN        S  \n",
       "2   240276   9.6875   NaN        Q  \n",
       "3   315154   8.6625   NaN        S  \n",
       "4  3101298  12.2875   NaN        S  "
      ]
     },
     "execution_count": 114,
     "metadata": {},
     "output_type": "execute_result"
    }
   ],
   "source": [
    "data1 = pd.read_csv(\"titanic.csv\")\n",
    "data1.head()"
   ]
  },
  {
   "cell_type": "code",
   "execution_count": 53,
   "id": "403326fc-797c-4caa-9c8b-bfef6f66d990",
   "metadata": {},
   "outputs": [
    {
     "data": {
      "text/plain": [
       "PassengerId      0\n",
       "Survived         0\n",
       "Pclass           0\n",
       "Name             0\n",
       "Sex              0\n",
       "Age             86\n",
       "SibSp            0\n",
       "Parch            0\n",
       "Ticket           0\n",
       "Fare             0\n",
       "Cabin          327\n",
       "Embarked         0\n",
       "dtype: int64"
      ]
     },
     "execution_count": 53,
     "metadata": {},
     "output_type": "execute_result"
    }
   ],
   "source": [
    "data1.isnull().sum()"
   ]
  },
  {
   "cell_type": "code",
   "execution_count": 54,
   "id": "f282fb17-4c0f-4c84-b9cd-134c8d0e6b70",
   "metadata": {},
   "outputs": [
    {
     "data": {
      "text/html": [
       "<div>\n",
       "<style scoped>\n",
       "    .dataframe tbody tr th:only-of-type {\n",
       "        vertical-align: middle;\n",
       "    }\n",
       "\n",
       "    .dataframe tbody tr th {\n",
       "        vertical-align: top;\n",
       "    }\n",
       "\n",
       "    .dataframe thead th {\n",
       "        text-align: right;\n",
       "    }\n",
       "</style>\n",
       "<table border=\"1\" class=\"dataframe\">\n",
       "  <thead>\n",
       "    <tr style=\"text-align: right;\">\n",
       "      <th></th>\n",
       "      <th>PassengerId</th>\n",
       "      <th>Survived</th>\n",
       "      <th>Pclass</th>\n",
       "      <th>Age</th>\n",
       "      <th>SibSp</th>\n",
       "      <th>Parch</th>\n",
       "      <th>Fare</th>\n",
       "    </tr>\n",
       "  </thead>\n",
       "  <tbody>\n",
       "    <tr>\n",
       "      <th>count</th>\n",
       "      <td>418.000000</td>\n",
       "      <td>418.000000</td>\n",
       "      <td>418.000000</td>\n",
       "      <td>332.000000</td>\n",
       "      <td>418.000000</td>\n",
       "      <td>418.000000</td>\n",
       "      <td>418.000000</td>\n",
       "    </tr>\n",
       "    <tr>\n",
       "      <th>mean</th>\n",
       "      <td>1100.500000</td>\n",
       "      <td>0.363636</td>\n",
       "      <td>2.265550</td>\n",
       "      <td>30.272590</td>\n",
       "      <td>0.447368</td>\n",
       "      <td>0.392344</td>\n",
       "      <td>35.553655</td>\n",
       "    </tr>\n",
       "    <tr>\n",
       "      <th>std</th>\n",
       "      <td>120.810458</td>\n",
       "      <td>0.481622</td>\n",
       "      <td>0.841838</td>\n",
       "      <td>14.181209</td>\n",
       "      <td>0.896760</td>\n",
       "      <td>0.981429</td>\n",
       "      <td>55.860735</td>\n",
       "    </tr>\n",
       "    <tr>\n",
       "      <th>min</th>\n",
       "      <td>892.000000</td>\n",
       "      <td>0.000000</td>\n",
       "      <td>1.000000</td>\n",
       "      <td>0.170000</td>\n",
       "      <td>0.000000</td>\n",
       "      <td>0.000000</td>\n",
       "      <td>0.000000</td>\n",
       "    </tr>\n",
       "    <tr>\n",
       "      <th>25%</th>\n",
       "      <td>996.250000</td>\n",
       "      <td>0.000000</td>\n",
       "      <td>1.000000</td>\n",
       "      <td>21.000000</td>\n",
       "      <td>0.000000</td>\n",
       "      <td>0.000000</td>\n",
       "      <td>7.895800</td>\n",
       "    </tr>\n",
       "    <tr>\n",
       "      <th>50%</th>\n",
       "      <td>1100.500000</td>\n",
       "      <td>0.000000</td>\n",
       "      <td>3.000000</td>\n",
       "      <td>27.000000</td>\n",
       "      <td>0.000000</td>\n",
       "      <td>0.000000</td>\n",
       "      <td>14.454200</td>\n",
       "    </tr>\n",
       "    <tr>\n",
       "      <th>75%</th>\n",
       "      <td>1204.750000</td>\n",
       "      <td>1.000000</td>\n",
       "      <td>3.000000</td>\n",
       "      <td>39.000000</td>\n",
       "      <td>1.000000</td>\n",
       "      <td>0.000000</td>\n",
       "      <td>31.471875</td>\n",
       "    </tr>\n",
       "    <tr>\n",
       "      <th>max</th>\n",
       "      <td>1309.000000</td>\n",
       "      <td>1.000000</td>\n",
       "      <td>3.000000</td>\n",
       "      <td>76.000000</td>\n",
       "      <td>8.000000</td>\n",
       "      <td>9.000000</td>\n",
       "      <td>512.329200</td>\n",
       "    </tr>\n",
       "  </tbody>\n",
       "</table>\n",
       "</div>"
      ],
      "text/plain": [
       "       PassengerId    Survived      Pclass         Age       SibSp  \\\n",
       "count   418.000000  418.000000  418.000000  332.000000  418.000000   \n",
       "mean   1100.500000    0.363636    2.265550   30.272590    0.447368   \n",
       "std     120.810458    0.481622    0.841838   14.181209    0.896760   \n",
       "min     892.000000    0.000000    1.000000    0.170000    0.000000   \n",
       "25%     996.250000    0.000000    1.000000   21.000000    0.000000   \n",
       "50%    1100.500000    0.000000    3.000000   27.000000    0.000000   \n",
       "75%    1204.750000    1.000000    3.000000   39.000000    1.000000   \n",
       "max    1309.000000    1.000000    3.000000   76.000000    8.000000   \n",
       "\n",
       "            Parch        Fare  \n",
       "count  418.000000  418.000000  \n",
       "mean     0.392344   35.553655  \n",
       "std      0.981429   55.860735  \n",
       "min      0.000000    0.000000  \n",
       "25%      0.000000    7.895800  \n",
       "50%      0.000000   14.454200  \n",
       "75%      0.000000   31.471875  \n",
       "max      9.000000  512.329200  "
      ]
     },
     "execution_count": 54,
     "metadata": {},
     "output_type": "execute_result"
    }
   ],
   "source": [
    "data1.describe()"
   ]
  },
  {
   "cell_type": "code",
   "execution_count": 55,
   "id": "36a6d4f1-ede0-4d8e-9c5d-edf03c01257a",
   "metadata": {},
   "outputs": [
    {
     "data": {
      "image/png": "[encoded data removed]",
      "text/plain": [
       "<Figure size 640x480 with 1 Axes>"
      ]
     },
     "metadata": {},
     "output_type": "display_data"
    }
   ],
   "source": [
    "sns.boxplot(x=\"Age\",data=data1)\n",
    "plt.show()"
   ]
  },
  {
   "cell_type": "code",
   "execution_count": 56,
   "id": "f4afa23f-ea28-4c6f-b9e0-737523a343cb",
   "metadata": {},
   "outputs": [
    {
     "data": {
      "text/plain": [
       "0      34.50000\n",
       "1      47.00000\n",
       "2      62.00000\n",
       "3      27.00000\n",
       "4      22.00000\n",
       "         ...   \n",
       "413    30.27259\n",
       "414    39.00000\n",
       "415    38.50000\n",
       "416    30.27259\n",
       "417    30.27259\n",
       "Name: Age, Length: 418, dtype: float64"
      ]
     },
     "execution_count": 56,
     "metadata": {},
     "output_type": "execute_result"
    }
   ],
   "source": [
    "data1[\"Age\"].fillna(data1[\"Age\"].mean())"
   ]
  },
  {
   "cell_type": "code",
   "execution_count": 57,
   "id": "05b01a72-25a4-401f-a8b2-5448b5e2f0b1",
   "metadata": {},
   "outputs": [
    {
     "data": {
      "text/plain": [
       "(nan, nan)"
      ]
     },
     "execution_count": 57,
     "metadata": {},
     "output_type": "execute_result"
    }
   ],
   "source": [
    "np.percentile(data1[\"Age\"],25),np.percentile(data1[\"Age\"],75)"
   ]
  },
  {
   "cell_type": "code",
   "execution_count": 58,
   "id": "190675af-1334-4dec-bb8a-b374566a0c37",
   "metadata": {},
   "outputs": [
    {
     "data": {
      "text/plain": [
       "nan"
      ]
     },
     "execution_count": 58,
     "metadata": {},
     "output_type": "execute_result"
    }
   ],
   "source": [
    "np.percentile(data1[\"Age\"],0)"
   ]
  },
  {
   "cell_type": "code",
   "execution_count": 59,
   "id": "e7b444a8-c5c3-478a-af34-ed6b9e73e5ef",
   "metadata": {},
   "outputs": [
    {
     "data": {
      "text/plain": [
       "0.17"
      ]
     },
     "execution_count": 59,
     "metadata": {},
     "output_type": "execute_result"
    }
   ],
   "source": [
    "data1[\"Age\"].min()"
   ]
  },
  {
   "cell_type": "code",
   "execution_count": 60,
   "id": "f13e0ff2-286b-4145-8b8f-492d4f317224",
   "metadata": {},
   "outputs": [
    {
     "data": {
      "text/plain": [
       "nan"
      ]
     },
     "execution_count": 60,
     "metadata": {},
     "output_type": "execute_result"
    }
   ],
   "source": [
    "np.percentile(data1[\"Age\"],100)"
   ]
  },
  {
   "cell_type": "code",
   "execution_count": 61,
   "id": "95f55986-3644-43d4-b83d-992537213597",
   "metadata": {},
   "outputs": [
    {
     "data": {
      "text/plain": [
       "76.0"
      ]
     },
     "execution_count": 61,
     "metadata": {},
     "output_type": "execute_result"
    }
   ],
   "source": [
    "data1[\"Age\"].max()"
   ]
  },
  {
   "cell_type": "code",
   "execution_count": 62,
   "id": "2ad600d5-9d49-4b78-a2ca-c2ccf8793359",
   "metadata": {},
   "outputs": [
    {
     "data": {
      "text/plain": [
       "nan"
      ]
     },
     "execution_count": 62,
     "metadata": {},
     "output_type": "execute_result"
    }
   ],
   "source": [
    "np.percentile(data1[\"Age\"],50)"
   ]
  },
  {
   "cell_type": "code",
   "execution_count": 63,
   "id": "ce2299f7-cb05-41ca-a19c-c8317ce171f5",
   "metadata": {},
   "outputs": [
    {
     "data": {
      "text/plain": [
       "27.0"
      ]
     },
     "execution_count": 63,
     "metadata": {},
     "output_type": "execute_result"
    }
   ],
   "source": [
    "data1[\"Age\"].median()"
   ]
  },
  {
   "cell_type": "code",
   "execution_count": 169,
   "id": "812fb009-5a30-4991-9d69-6802501e293d",
   "metadata": {},
   "outputs": [
    {
     "name": "stdout",
     "output_type": "stream",
     "text": [
      "16\n"
     ]
    },
    {
     "data": {
      "text/plain": [
       "80.0"
      ]
     },
     "execution_count": 169,
     "metadata": {},
     "output_type": "execute_result"
    }
   ],
   "source": [
    "ds = [2,2,3,4,5,5,5,6,7,8,8,8,8,8,9,9,10,11,11,12]\n",
    "length = len(ds)\n",
    "count = 0\n",
    "x = 10\n",
    "for i in ds:\n",
    "    if i == x:\n",
    "        break\n",
    "    count += 1\n",
    "print(count)\n",
    "percentile_10 = (count / length) * 100\n",
    "percentile_10"
   ]
  },
  {
   "cell_type": "code",
   "execution_count": 170,
   "id": "6e340e0a-e6f5-4331-aa6d-ca601da1f128",
   "metadata": {},
   "outputs": [
    {
     "data": {
      "text/plain": [
       "5.25"
      ]
     },
     "execution_count": 170,
     "metadata": {},
     "output_type": "execute_result"
    }
   ],
   "source": [
    "# what value exists at percentile ranking of 25% ?  - It gives index position\n",
    "percent = 25\n",
    "val = (percent / 100) * (length + 1)\n",
    "val"
   ]
  },
  {
   "cell_type": "markdown",
   "id": "a60cc3cd-0f86-47cd-bc66-b966077cf091",
   "metadata": {},
   "source": [
    "#### INTERQUARTILE RANGE\n",
    "##### 5 number summary - min,1st quartile(Q1),median,2nd quartile(Q2),max"
   ]
  },
  {
   "cell_type": "code",
   "execution_count": 193,
   "id": "133d94c4-0e5e-4fc5-b443-767618cbf8a2",
   "metadata": {},
   "outputs": [],
   "source": [
    "l = [1,2,2,2,3,3,4,5,5,5,6,6,6,6,7,8,8,9,27]\n",
    "leng = len(l)"
   ]
  },
  {
   "cell_type": "code",
   "execution_count": 203,
   "id": "f71ef3f9-bb67-44df-886a-1230a00d67f3",
   "metadata": {},
   "outputs": [
    {
     "name": "stdout",
     "output_type": "stream",
     "text": [
      "Index of Q1 =  5 \n",
      "Index of Q3 =  15\n",
      "3 7\n"
     ]
    }
   ],
   "source": [
    "Q_25 = int((25 / 100) * (leng + 1))\n",
    "Q_75 = int((75 / 100) * (leng + 1))\n",
    "print(\"Index of Q1 = \",Q_25,\"\\nIndex of Q3 = \",Q_75)\n",
    "\n",
    "Q1 = l[Q_25-1]\n",
    "Q3 = l[Q_75-1]\n",
    "print(Q1,Q3)"
   ]
  },
  {
   "cell_type": "code",
   "execution_count": 210,
   "id": "41dc5538-7d4b-4973-bebe-465e0e3ba42d",
   "metadata": {},
   "outputs": [
    {
     "data": {
      "text/plain": [
       "(3.0, 6.5)"
      ]
     },
     "execution_count": 210,
     "metadata": {},
     "output_type": "execute_result"
    }
   ],
   "source": [
    "s = np.percentile(l,25)\n",
    "p = np.percentile(l,75)\n",
    "s,p"
   ]
  },
  {
   "cell_type": "code",
   "execution_count": 204,
   "id": "e9af3612-575b-49ba-9570-e183390efaf6",
   "metadata": {},
   "outputs": [
    {
     "data": {
      "text/plain": [
       "4"
      ]
     },
     "execution_count": 204,
     "metadata": {},
     "output_type": "execute_result"
    }
   ],
   "source": [
    "IQR = Q3 - Q1\n",
    "IQR"
   ]
  },
  {
   "cell_type": "code",
   "execution_count": 205,
   "id": "db864d94-a115-4864-a70a-0dd8fdd84631",
   "metadata": {},
   "outputs": [
    {
     "data": {
      "text/plain": [
       "(-3.0, 13.0)"
      ]
     },
     "execution_count": 205,
     "metadata": {},
     "output_type": "execute_result"
    }
   ],
   "source": [
    "lower_fen = Q1 - 1.5*IQR\n",
    "upper_fen = Q3 + 1.5*IQR\n",
    "lower_fen,upper_fen"
   ]
  },
  {
   "cell_type": "code",
   "execution_count": 208,
   "id": "97ba0e55-5f5f-408c-8b6b-ab08cb6e66bc",
   "metadata": {},
   "outputs": [
    {
     "data": {
      "text/plain": [
       "{'whiskers': [<matplotlib.lines.Line2D at 0x7fac5d4d4a60>,\n",
       "  <matplotlib.lines.Line2D at 0x7fac5d4d4d00>],\n",
       " 'caps': [<matplotlib.lines.Line2D at 0x7fac5d4d4fa0>,\n",
       "  <matplotlib.lines.Line2D at 0x7fac5d4d5240>],\n",
       " 'boxes': [<matplotlib.lines.Line2D at 0x7fac5d4d47c0>],\n",
       " 'medians': [<matplotlib.lines.Line2D at 0x7fac5d4d54e0>],\n",
       " 'fliers': [<matplotlib.lines.Line2D at 0x7fac5d4d5780>],\n",
       " 'means': []}"
      ]
     },
     "execution_count": 208,
     "metadata": {},
     "output_type": "execute_result"
    },
    {
     "data": {
      "image/png": "[encoded data removed]",
      "text/plain": [
       "<Figure size 640x480 with 1 Axes>"
      ]
     },
     "metadata": {},
     "output_type": "display_data"
    }
   ],
   "source": [
    "plt.boxplot(l)"
   ]
  },
  {
   "cell_type": "code",
   "execution_count": 209,
   "id": "8b77b4a9-ddfa-4d2a-ad62-4b57d8b96b17",
   "metadata": {},
   "outputs": [],
   "source": [
    "# therefore 27 is the outlier"
   ]
  },
  {
   "cell_type": "markdown",
   "id": "fb47f938-d727-4b0c-9bc4-7e5e988ff62d",
   "metadata": {},
   "source": [
    "### 4)Measure Of Shapes"
   ]
  },
  {
   "cell_type": "markdown",
   "id": "3d353125-5f26-4d12-ab9b-4df1bacd5abf",
   "metadata": {},
   "source": [
    "#### Skewness \n",
    "##### It measures asymmetry of distribution"
   ]
  },
  {
   "cell_type": "code",
   "execution_count": 115,
   "id": "2ab9707b-35cc-46f2-897d-c4687caee2fd",
   "metadata": {},
   "outputs": [
    {
     "data": {
      "text/plain": [
       "0.4573612871503845"
      ]
     },
     "execution_count": 115,
     "metadata": {},
     "output_type": "execute_result"
    }
   ],
   "source": [
    "data1[\"Age\"].skew()"
   ]
  },
  {
   "cell_type": "code",
   "execution_count": 116,
   "id": "0d6744d6-3d41-4f0f-aa66-a818aa520be9",
   "metadata": {},
   "outputs": [
    {
     "data": {
      "image/png": "[encoded data removed]",
      "text/plain": [
       "<Figure size 640x480 with 1 Axes>"
      ]
     },
     "metadata": {},
     "output_type": "display_data"
    }
   ],
   "source": [
    "sns.histplot(x=\"Age\",data=data1,kde=True)\n",
    "plt.show()"
   ]
  },
  {
   "cell_type": "code",
   "execution_count": 67,
   "id": "b6a22036-2e27-4e6d-bc05-cb829380ed73",
   "metadata": {},
   "outputs": [
    {
     "data": {
      "text/plain": [
       "(30.272590361445783, 27.0, 21.0)"
      ]
     },
     "execution_count": 67,
     "metadata": {},
     "output_type": "execute_result"
    }
   ],
   "source": [
    "data1[\"Age\"].mean(),data1[\"Age\"].median(),data1[\"Age\"].mode()[0]"
   ]
  },
  {
   "cell_type": "code",
   "execution_count": 110,
   "id": "367ce19b-221b-4892-bf38-05467bcb64dc",
   "metadata": {},
   "outputs": [
    {
     "data": {
      "text/plain": [
       "0.0935778891550577"
      ]
     },
     "execution_count": 110,
     "metadata": {},
     "output_type": "execute_result"
    }
   ],
   "source": [
    "data = np.random.normal(0,100,1000)\n",
    "df = pd.DataFrame({\"x\":data})\n",
    "df[\"x\"].skew()"
   ]
  },
  {
   "cell_type": "code",
   "execution_count": 112,
   "id": "6730856a-7f05-437c-8fff-750c59517d82",
   "metadata": {},
   "outputs": [
    {
     "data": {
      "image/png": "[encoded data removed]",
      "text/plain": [
       "<Figure size 640x480 with 1 Axes>"
      ]
     },
     "metadata": {},
     "output_type": "display_data"
    }
   ],
   "source": [
    "sns.histplot(x=\"x\",data=df,kde=True)\n",
    "plt.show()"
   ]
  },
  {
   "cell_type": "code",
   "execution_count": 70,
   "id": "c158e7e1-7e39-4570-a8a9-b539372f02e9",
   "metadata": {},
   "outputs": [
    {
     "data": {
      "text/plain": [
       "(64.0, 15290.4)"
      ]
     },
     "execution_count": 70,
     "metadata": {},
     "output_type": "execute_result"
    }
   ],
   "source": [
    "var1 = np.sum(np.abs(sec1-sec1.mean())**3)/(len(sec1)-1)\n",
    "var2 = np.sum(np.abs(sec2-sec2.mean())**3)/(len(sec2)-1)\n",
    "var1,var2"
   ]
  },
  {
   "cell_type": "code",
   "execution_count": 71,
   "id": "1cc009b7-fa36-4f44-943a-a0fa74534148",
   "metadata": {},
   "outputs": [
    {
     "data": {
      "text/plain": [
       "-0.040529445598651154"
      ]
     },
     "execution_count": 71,
     "metadata": {},
     "output_type": "execute_result"
    }
   ],
   "source": [
    "data1 = [2,3,3,4,4,4,5,5,5,5,5,6,6,6,6,6,7,7,7,7,7,7,8,8,8,8,8,9,9,9,9,10,10,10,11,11,12]\n",
    "df = pd.DataFrame({\"x\":data})\n",
    "df[\"x\"].skew()"
   ]
  },
  {
   "cell_type": "code",
   "execution_count": 72,
   "id": "299a478a-32e3-47c7-9053-c3b32f203019",
   "metadata": {},
   "outputs": [
    {
     "data": {
      "image/png": "[encoded data removed]",
      "text/plain": [
       "<Figure size 640x480 with 1 Axes>"
      ]
     },
     "metadata": {},
     "output_type": "display_data"
    }
   ],
   "source": [
    "sns.histplot(x=\"x\",data=df,bins=[2,3,4,5,6,7,8,9,10,11,12])\n",
    "plt.show()"
   ]
  },
  {
   "cell_type": "code",
   "execution_count": 73,
   "id": "e6f844c1-757e-4ee6-a0dd-d98674f418ee",
   "metadata": {},
   "outputs": [
    {
     "data": {
      "text/plain": [
       "(1.9021269638922502, 3.3498851569935013, -325.10127719938146)"
      ]
     },
     "execution_count": 73,
     "metadata": {},
     "output_type": "execute_result"
    }
   ],
   "source": [
    "df[\"x\"].mean(),df[\"x\"].median(),df[\"x\"].mode()[0]"
   ]
  },
  {
   "cell_type": "markdown",
   "id": "96fbf7a4-a8e4-40bc-a7e3-79ebdf63d264",
   "metadata": {},
   "source": [
    "### 5)COVARIANCE \n",
    "##### It signifies Linear relationship between two variables"
   ]
  },
  {
   "cell_type": "code",
   "execution_count": 74,
   "id": "fb12c6f8-4be6-4687-95c2-268535b85dff",
   "metadata": {},
   "outputs": [
    {
     "data": {
      "text/html": [
       "<div>\n",
       "<style scoped>\n",
       "    .dataframe tbody tr th:only-of-type {\n",
       "        vertical-align: middle;\n",
       "    }\n",
       "\n",
       "    .dataframe tbody tr th {\n",
       "        vertical-align: top;\n",
       "    }\n",
       "\n",
       "    .dataframe thead th {\n",
       "        text-align: right;\n",
       "    }\n",
       "</style>\n",
       "<table border=\"1\" class=\"dataframe\">\n",
       "  <thead>\n",
       "    <tr style=\"text-align: right;\">\n",
       "      <th></th>\n",
       "      <th>total_bill</th>\n",
       "      <th>tip</th>\n",
       "      <th>sex</th>\n",
       "      <th>smoker</th>\n",
       "      <th>day</th>\n",
       "      <th>time</th>\n",
       "      <th>size</th>\n",
       "    </tr>\n",
       "  </thead>\n",
       "  <tbody>\n",
       "    <tr>\n",
       "      <th>0</th>\n",
       "      <td>16.99</td>\n",
       "      <td>1.01</td>\n",
       "      <td>Female</td>\n",
       "      <td>No</td>\n",
       "      <td>Sun</td>\n",
       "      <td>Dinner</td>\n",
       "      <td>2</td>\n",
       "    </tr>\n",
       "    <tr>\n",
       "      <th>1</th>\n",
       "      <td>10.34</td>\n",
       "      <td>1.66</td>\n",
       "      <td>Male</td>\n",
       "      <td>No</td>\n",
       "      <td>Sun</td>\n",
       "      <td>Dinner</td>\n",
       "      <td>3</td>\n",
       "    </tr>\n",
       "    <tr>\n",
       "      <th>2</th>\n",
       "      <td>21.01</td>\n",
       "      <td>3.50</td>\n",
       "      <td>Male</td>\n",
       "      <td>No</td>\n",
       "      <td>Sun</td>\n",
       "      <td>Dinner</td>\n",
       "      <td>3</td>\n",
       "    </tr>\n",
       "    <tr>\n",
       "      <th>3</th>\n",
       "      <td>23.68</td>\n",
       "      <td>3.31</td>\n",
       "      <td>Male</td>\n",
       "      <td>No</td>\n",
       "      <td>Sun</td>\n",
       "      <td>Dinner</td>\n",
       "      <td>2</td>\n",
       "    </tr>\n",
       "    <tr>\n",
       "      <th>4</th>\n",
       "      <td>24.59</td>\n",
       "      <td>3.61</td>\n",
       "      <td>Female</td>\n",
       "      <td>No</td>\n",
       "      <td>Sun</td>\n",
       "      <td>Dinner</td>\n",
       "      <td>4</td>\n",
       "    </tr>\n",
       "  </tbody>\n",
       "</table>\n",
       "</div>"
      ],
      "text/plain": [
       "   total_bill   tip     sex smoker  day    time  size\n",
       "0       16.99  1.01  Female     No  Sun  Dinner     2\n",
       "1       10.34  1.66    Male     No  Sun  Dinner     3\n",
       "2       21.01  3.50    Male     No  Sun  Dinner     3\n",
       "3       23.68  3.31    Male     No  Sun  Dinner     2\n",
       "4       24.59  3.61  Female     No  Sun  Dinner     4"
      ]
     },
     "execution_count": 74,
     "metadata": {},
     "output_type": "execute_result"
    }
   ],
   "source": [
    "df = pd.read_csv(\"tips.csv\")\n",
    "df.head()"
   ]
  },
  {
   "cell_type": "code",
   "execution_count": 75,
   "id": "32cc75aa-7435-4a60-8503-e094ba7a9130",
   "metadata": {},
   "outputs": [
    {
     "data": {
      "text/plain": [
       "total_bill    0\n",
       "tip           0\n",
       "sex           0\n",
       "smoker        0\n",
       "day           0\n",
       "time          0\n",
       "size          0\n",
       "dtype: int64"
      ]
     },
     "execution_count": 75,
     "metadata": {},
     "output_type": "execute_result"
    }
   ],
   "source": [
    "df.isnull().sum()"
   ]
  },
  {
   "cell_type": "code",
   "execution_count": 76,
   "id": "f0fb8c3f-becc-4ee2-9654-fd5ac9fc5543",
   "metadata": {},
   "outputs": [
    {
     "name": "stdout",
     "output_type": "stream",
     "text": [
      "<class 'pandas.core.frame.DataFrame'>\n",
      "RangeIndex: 244 entries, 0 to 243\n",
      "Data columns (total 7 columns):\n",
      " #   Column      Non-Null Count  Dtype  \n",
      "---  ------      --------------  -----  \n",
      " 0   total_bill  244 non-null    float64\n",
      " 1   tip         244 non-null    float64\n",
      " 2   sex         244 non-null    object \n",
      " 3   smoker      244 non-null    object \n",
      " 4   day         244 non-null    object \n",
      " 5   time        244 non-null    object \n",
      " 6   size        244 non-null    int64  \n",
      "dtypes: float64(2), int64(1), object(4)\n",
      "memory usage: 13.5+ KB\n"
     ]
    }
   ],
   "source": [
    "df.info()"
   ]
  },
  {
   "cell_type": "code",
   "execution_count": 77,
   "id": "1ae331b0-2c7b-492a-b870-677d4325047c",
   "metadata": {},
   "outputs": [
    {
     "data": {
      "text/html": [
       "<div>\n",
       "<style scoped>\n",
       "    .dataframe tbody tr th:only-of-type {\n",
       "        vertical-align: middle;\n",
       "    }\n",
       "\n",
       "    .dataframe tbody tr th {\n",
       "        vertical-align: top;\n",
       "    }\n",
       "\n",
       "    .dataframe thead th {\n",
       "        text-align: right;\n",
       "    }\n",
       "</style>\n",
       "<table border=\"1\" class=\"dataframe\">\n",
       "  <thead>\n",
       "    <tr style=\"text-align: right;\">\n",
       "      <th></th>\n",
       "      <th>total_bill</th>\n",
       "      <th>tip</th>\n",
       "      <th>size</th>\n",
       "    </tr>\n",
       "  </thead>\n",
       "  <tbody>\n",
       "    <tr>\n",
       "      <th>total_bill</th>\n",
       "      <td>79.252939</td>\n",
       "      <td>8.323502</td>\n",
       "      <td>5.065983</td>\n",
       "    </tr>\n",
       "    <tr>\n",
       "      <th>tip</th>\n",
       "      <td>8.323502</td>\n",
       "      <td>1.914455</td>\n",
       "      <td>0.643906</td>\n",
       "    </tr>\n",
       "    <tr>\n",
       "      <th>size</th>\n",
       "      <td>5.065983</td>\n",
       "      <td>0.643906</td>\n",
       "      <td>0.904591</td>\n",
       "    </tr>\n",
       "  </tbody>\n",
       "</table>\n",
       "</div>"
      ],
      "text/plain": [
       "            total_bill       tip      size\n",
       "total_bill   79.252939  8.323502  5.065983\n",
       "tip           8.323502  1.914455  0.643906\n",
       "size          5.065983  0.643906  0.904591"
      ]
     },
     "execution_count": 77,
     "metadata": {},
     "output_type": "execute_result"
    }
   ],
   "source": [
    "data_cov = df.select_dtypes([\"float64\",\"int64\"]).cov()\n",
    "data_cov"
   ]
  },
  {
   "cell_type": "markdown",
   "id": "1c887150-f83a-4b98-84ca-cfc075b46334",
   "metadata": {},
   "source": [
    "### 6) CORRELATION\n",
    "##### It evaluates the strength of a relationship between two variables"
   ]
  },
  {
   "cell_type": "code",
   "execution_count": 78,
   "id": "d56fc1f4-79aa-4c4c-95a5-d55b84467804",
   "metadata": {},
   "outputs": [
    {
     "data": {
      "text/html": [
       "<div>\n",
       "<style scoped>\n",
       "    .dataframe tbody tr th:only-of-type {\n",
       "        vertical-align: middle;\n",
       "    }\n",
       "\n",
       "    .dataframe tbody tr th {\n",
       "        vertical-align: top;\n",
       "    }\n",
       "\n",
       "    .dataframe thead th {\n",
       "        text-align: right;\n",
       "    }\n",
       "</style>\n",
       "<table border=\"1\" class=\"dataframe\">\n",
       "  <thead>\n",
       "    <tr style=\"text-align: right;\">\n",
       "      <th></th>\n",
       "      <th>total_bill</th>\n",
       "      <th>tip</th>\n",
       "      <th>size</th>\n",
       "    </tr>\n",
       "  </thead>\n",
       "  <tbody>\n",
       "    <tr>\n",
       "      <th>total_bill</th>\n",
       "      <td>1.000000</td>\n",
       "      <td>0.675734</td>\n",
       "      <td>0.598315</td>\n",
       "    </tr>\n",
       "    <tr>\n",
       "      <th>tip</th>\n",
       "      <td>0.675734</td>\n",
       "      <td>1.000000</td>\n",
       "      <td>0.489299</td>\n",
       "    </tr>\n",
       "    <tr>\n",
       "      <th>size</th>\n",
       "      <td>0.598315</td>\n",
       "      <td>0.489299</td>\n",
       "      <td>1.000000</td>\n",
       "    </tr>\n",
       "  </tbody>\n",
       "</table>\n",
       "</div>"
      ],
      "text/plain": [
       "            total_bill       tip      size\n",
       "total_bill    1.000000  0.675734  0.598315\n",
       "tip           0.675734  1.000000  0.489299\n",
       "size          0.598315  0.489299  1.000000"
      ]
     },
     "execution_count": 78,
     "metadata": {},
     "output_type": "execute_result"
    }
   ],
   "source": [
    "data_corr = df.select_dtypes([\"float64\",\"int64\"]).corr()\n",
    "data_corr"
   ]
  },
  {
   "cell_type": "markdown",
   "id": "665d86e9-c344-4699-8b39-1c2285d1ea30",
   "metadata": {},
   "source": [
    "#### HEATMAP\n",
    "##### It is a representation of data in which various values are represented in colors"
   ]
  },
  {
   "cell_type": "code",
   "execution_count": 79,
   "id": "c3e5f54b-e6c5-4d3c-9ac3-447cedd94ecb",
   "metadata": {},
   "outputs": [
    {
     "data": {
      "image/png": "[encoded data removed]",
      "text/plain": [
       "<Figure size 400x300 with 2 Axes>"
      ]
     },
     "metadata": {},
     "output_type": "display_data"
    }
   ],
   "source": [
    "plt.figure(figsize=(4,3))\n",
    "sns.heatmap(data_cov,annot=True)\n",
    "plt.show()"
   ]
  },
  {
   "cell_type": "code",
   "execution_count": 80,
   "id": "c9b8cd89-7504-4f1c-ad07-a9b9ce7032e5",
   "metadata": {},
   "outputs": [
    {
     "data": {
      "image/png": "[encoded data removed]",
      "text/plain": [
       "<Figure size 400x300 with 2 Axes>"
      ]
     },
     "metadata": {},
     "output_type": "display_data"
    }
   ],
   "source": [
    "plt.figure(figsize=(4,3))\n",
    "sns.heatmap(data_corr,annot=True)\n",
    "plt.show()"
   ]
  },
  {
   "cell_type": "markdown",
   "id": "eab933a0-c49d-4045-990a-5b2e19754cc8",
   "metadata": {},
   "source": [
    "### 7) FREQUENCY DISTRIBUTION & CUMULATIVE FREQUENCY DISTRIBUTION\n",
    "##### FD - It shows no.of occurences of each item in the dataset\n",
    "##### CFD - It shows accumulation i.e., sum of all frequencies"
   ]
  },
  {
   "cell_type": "code",
   "execution_count": 117,
   "id": "139c10f9-cc50-47f2-8d37-9e0bd73b74fc",
   "metadata": {},
   "outputs": [
    {
     "name": "stdout",
     "output_type": "stream",
     "text": [
      "Frequency Distribution:\n",
      "Rose = 3, Lilly = 4, Sunflower = 2\n"
     ]
    }
   ],
   "source": [
    "ls1 = [\"Rose\",\"Lilly\",\"Sunflower\",\"Rose\",\"Lilly\",\"Sunflower\",\"Rose\",\"Lilly\",\"Lilly\"]\n",
    "count_rose = 0\n",
    "count_lilly = 0\n",
    "count_sun = 0\n",
    "for i in ls1:\n",
    "    if i == \"Rose\":\n",
    "        count_rose += 1\n",
    "    elif i == \"Lilly\":\n",
    "        count_lilly += 1\n",
    "    elif i == \"Sunflower\":\n",
    "        count_sun += 1\n",
    "print(\"Frequency Distribution:\")\n",
    "print(f\"Rose = {count_rose}, Lilly = {count_lilly}, Sunflower = {count_sun}\")"
   ]
  },
  {
   "cell_type": "code",
   "execution_count": 137,
   "id": "b53f13f8-9436-4e67-9079-f55de02b0775",
   "metadata": {},
   "outputs": [
    {
     "data": {
      "text/html": [
       "<div>\n",
       "<style scoped>\n",
       "    .dataframe tbody tr th:only-of-type {\n",
       "        vertical-align: middle;\n",
       "    }\n",
       "\n",
       "    .dataframe tbody tr th {\n",
       "        vertical-align: top;\n",
       "    }\n",
       "\n",
       "    .dataframe thead th {\n",
       "        text-align: right;\n",
       "    }\n",
       "</style>\n",
       "<table border=\"1\" class=\"dataframe\">\n",
       "  <thead>\n",
       "    <tr style=\"text-align: right;\">\n",
       "      <th></th>\n",
       "      <th>Flowers</th>\n",
       "      <th>Frequency</th>\n",
       "      <th>CDF</th>\n",
       "    </tr>\n",
       "  </thead>\n",
       "  <tbody>\n",
       "    <tr>\n",
       "      <th>0</th>\n",
       "      <td>Rose</td>\n",
       "      <td>3</td>\n",
       "      <td>3</td>\n",
       "    </tr>\n",
       "    <tr>\n",
       "      <th>1</th>\n",
       "      <td>Lilly</td>\n",
       "      <td>4</td>\n",
       "      <td>7</td>\n",
       "    </tr>\n",
       "    <tr>\n",
       "      <th>2</th>\n",
       "      <td>Sunflower</td>\n",
       "      <td>2</td>\n",
       "      <td>9</td>\n",
       "    </tr>\n",
       "  </tbody>\n",
       "</table>\n",
       "</div>"
      ],
      "text/plain": [
       "     Flowers  Frequency  CDF\n",
       "0       Rose          3    3\n",
       "1      Lilly          4    7\n",
       "2  Sunflower          2    9"
      ]
     },
     "execution_count": 137,
     "metadata": {},
     "output_type": "execute_result"
    }
   ],
   "source": [
    "d = { \"Flowers\" : [\"Rose\",\"Lilly\",\"Sunflower\"],\n",
    "      \"Frequency\" : [count_rose,count_lilly,count_sun]\n",
    "    }\n",
    "df = pd.DataFrame(d)\n",
    "df[\"CDF\"] = df[\"Frequency\"].cumsum()\n",
    "df"
   ]
  },
  {
   "cell_type": "markdown",
   "id": "3e6e8b3a-c0a7-47d1-80bc-457e9cdda4ea",
   "metadata": {},
   "source": [
    "#### Bar Graph\n",
    "##### For dicrete values we use bar graphs"
   ]
  },
  {
   "cell_type": "code",
   "execution_count": 155,
   "id": "68c9ef5e-8fbb-4815-b118-104a9a8126f8",
   "metadata": {},
   "outputs": [
    {
     "data": {
      "image/png": "[encoded data removed]",
      "text/plain": [
       "<Figure size 640x480 with 1 Axes>"
      ]
     },
     "metadata": {},
     "output_type": "display_data"
    }
   ],
   "source": [
    "plt.bar(df[\"Flowers\"],df[\"Frequency\"],color=\"red\")\n",
    "plt.title(\"Freuency\")\n",
    "plt.xlabel(\"Flowers\")\n",
    "plt.ylabel(\"Frquency\")\n",
    "plt.show()"
   ]
  },
  {
   "cell_type": "markdown",
   "id": "ab84ce47-3afe-43d8-91be-0627c7c46151",
   "metadata": {},
   "source": [
    "#### Histograms\n",
    "##### For continuous values we use bar graphs"
   ]
  },
  {
   "cell_type": "code",
   "execution_count": 161,
   "id": "d76b4589-67f2-4be0-af3d-b443c395f39f",
   "metadata": {},
   "outputs": [
    {
     "data": {
      "text/plain": [
       "(array([0.04573171, 0.0152439 , 0.        , 0.0304878 , 0.0152439 ,\n",
       "        0.        , 0.04573171, 0.04573171, 0.0152439 , 0.0304878 ]),\n",
       " array([10. , 14.1, 18.2, 22.3, 26.4, 30.5, 34.6, 38.7, 42.8, 46.9, 51. ]),\n",
       " <BarContainer object of 10 artists>)"
      ]
     },
     "execution_count": 161,
     "metadata": {},
     "output_type": "execute_result"
    },
    {
     "data": {
      "image/png": "[encoded data removed]",
      "text/plain": [
       "<Figure size 640x480 with 1 Axes>"
      ]
     },
     "metadata": {},
     "output_type": "display_data"
    }
   ],
   "source": [
    "ages = [10,12,14,18,24,26,30,35,36,37,40,41,42,43,50,51]\n",
    "plt.hist(ages,color=\"blue\",ec=\"black\",bins=10,density=True)"
   ]
  },
  {
   "cell_type": "markdown",
   "id": "61be9dd1-071d-4e17-8ca5-9fec510033ef",
   "metadata": {},
   "source": [
    "## INFERENTIAL STATISTICS\n",
    "##### It draws conclusions from the data"
   ]
  },
  {
   "cell_type": "markdown",
   "id": "26bac680-8784-448e-9c16-f251dc4ad292",
   "metadata": {},
   "source": [
    "### 1) CENTRAL LIMIT THEOREM\n",
    "##### It states that when plotting a sample distribution of means then the means of sample will be equal to population mean.Sample Distribution will approach normal distribution with variance equal to standard error."
   ]
  },
  {
   "cell_type": "code",
   "execution_count": 82,
   "id": "bf728c16-4d3e-4255-a386-3d3ebcef2385",
   "metadata": {},
   "outputs": [
    {
     "data": {
      "text/plain": [
       "10000"
      ]
     },
     "execution_count": 82,
     "metadata": {},
     "output_type": "execute_result"
    }
   ],
   "source": [
    "pdata = [np.random.randint(10,100) for i in range(10000)]\n",
    "len(pdata)"
   ]
  },
  {
   "cell_type": "code",
   "execution_count": 83,
   "id": "e289ea09-ce78-49f7-92d6-3025d3f915ee",
   "metadata": {},
   "outputs": [
    {
     "data": {
      "text/html": [
       "<div>\n",
       "<style scoped>\n",
       "    .dataframe tbody tr th:only-of-type {\n",
       "        vertical-align: middle;\n",
       "    }\n",
       "\n",
       "    .dataframe tbody tr th {\n",
       "        vertical-align: top;\n",
       "    }\n",
       "\n",
       "    .dataframe thead th {\n",
       "        text-align: right;\n",
       "    }\n",
       "</style>\n",
       "<table border=\"1\" class=\"dataframe\">\n",
       "  <thead>\n",
       "    <tr style=\"text-align: right;\">\n",
       "      <th></th>\n",
       "      <th>Pdata</th>\n",
       "    </tr>\n",
       "  </thead>\n",
       "  <tbody>\n",
       "    <tr>\n",
       "      <th>0</th>\n",
       "      <td>40</td>\n",
       "    </tr>\n",
       "    <tr>\n",
       "      <th>1</th>\n",
       "      <td>16</td>\n",
       "    </tr>\n",
       "    <tr>\n",
       "      <th>2</th>\n",
       "      <td>92</td>\n",
       "    </tr>\n",
       "    <tr>\n",
       "      <th>3</th>\n",
       "      <td>10</td>\n",
       "    </tr>\n",
       "    <tr>\n",
       "      <th>4</th>\n",
       "      <td>20</td>\n",
       "    </tr>\n",
       "    <tr>\n",
       "      <th>...</th>\n",
       "      <td>...</td>\n",
       "    </tr>\n",
       "    <tr>\n",
       "      <th>9995</th>\n",
       "      <td>93</td>\n",
       "    </tr>\n",
       "    <tr>\n",
       "      <th>9996</th>\n",
       "      <td>42</td>\n",
       "    </tr>\n",
       "    <tr>\n",
       "      <th>9997</th>\n",
       "      <td>12</td>\n",
       "    </tr>\n",
       "    <tr>\n",
       "      <th>9998</th>\n",
       "      <td>83</td>\n",
       "    </tr>\n",
       "    <tr>\n",
       "      <th>9999</th>\n",
       "      <td>77</td>\n",
       "    </tr>\n",
       "  </tbody>\n",
       "</table>\n",
       "<p>10000 rows × 1 columns</p>\n",
       "</div>"
      ],
      "text/plain": [
       "      Pdata\n",
       "0        40\n",
       "1        16\n",
       "2        92\n",
       "3        10\n",
       "4        20\n",
       "...     ...\n",
       "9995     93\n",
       "9996     42\n",
       "9997     12\n",
       "9998     83\n",
       "9999     77\n",
       "\n",
       "[10000 rows x 1 columns]"
      ]
     },
     "execution_count": 83,
     "metadata": {},
     "output_type": "execute_result"
    }
   ],
   "source": [
    "ptable = pd.DataFrame({\"Pdata\" : pdata})\n",
    "ptable"
   ]
  },
  {
   "cell_type": "code",
   "execution_count": 84,
   "id": "fc72fddf-353e-4b43-aa05-19f220a6e683",
   "metadata": {},
   "outputs": [
    {
     "data": {
      "image/png": "[encoded data removed]",
      "text/plain": [
       "<Figure size 400x300 with 1 Axes>"
      ]
     },
     "metadata": {},
     "output_type": "display_data"
    }
   ],
   "source": [
    "# kde - kernel density estimate\n",
    "# It represents the data using a continuous probability density curve in one or more dimensions\n",
    "\n",
    "plt.figure(figsize=(4,3))\n",
    "sns.kdeplot(x=\"Pdata\",data=ptable)\n",
    "plt.show()"
   ]
  },
  {
   "cell_type": "code",
   "execution_count": 85,
   "id": "2ce29333-ab9a-4b70-991a-aa8c2cd78c62",
   "metadata": {},
   "outputs": [],
   "source": [
    "sample_mean = []\n",
    "for i in range(60):\n",
    "    sample_data = []\n",
    "    for j in range(500):\n",
    "        sample_data.append(np.random.choice(pdata))\n",
    "    sample_mean.append(np.mean(sample_data))"
   ]
  },
  {
   "cell_type": "code",
   "execution_count": 86,
   "id": "ff918556-583e-45e7-8db5-35ec7f9e93bf",
   "metadata": {},
   "outputs": [],
   "source": [
    "sample_M = pd.DataFrame({\"Sample Mean\":sample_mean})"
   ]
  },
  {
   "cell_type": "code",
   "execution_count": 87,
   "id": "bc767bb6-655c-49c4-a0de-dd6f481dd438",
   "metadata": {},
   "outputs": [
    {
     "data": {
      "image/png": "[encoded data removed]",
      "text/plain": [
       "<Figure size 400x300 with 1 Axes>"
      ]
     },
     "metadata": {},
     "output_type": "display_data"
    }
   ],
   "source": [
    "plt.figure(figsize=(4,3))\n",
    "sns.kdeplot(x=\"Sample Mean\",data=sample_M)\n",
    "plt.show()"
   ]
  },
  {
   "cell_type": "code",
   "execution_count": 88,
   "id": "9893b0ba-b6ad-4cdf-adeb-e785a5c0a4dd",
   "metadata": {},
   "outputs": [
    {
     "data": {
      "text/plain": [
       "54.6113"
      ]
     },
     "execution_count": 88,
     "metadata": {},
     "output_type": "execute_result"
    }
   ],
   "source": [
    "np.mean(sample_mean)"
   ]
  },
  {
   "cell_type": "markdown",
   "id": "e130e1ff-7b09-44ff-b4f9-104d9b8e006e",
   "metadata": {},
   "source": [
    "### 2) HYPOTHESIS TESTING\n",
    "##### In this we test the assumptions made regarding a population parameter."
   ]
  },
  {
   "cell_type": "markdown",
   "id": "15684b24-b0e2-490a-a097-205f3391e029",
   "metadata": {},
   "source": [
    "#### Z Test\n",
    "##### If population mean & standard deviation are known and also the sample size is>= 30, we do Z test"
   ]
  },
  {
   "cell_type": "markdown",
   "id": "82928ec3-6426-4663-954a-195355c088a3",
   "metadata": {},
   "source": [
    "##### Q1) A teacher claims that the mean score of students in his class is greater than 82 with a standard deviation of 20.If a sample of 81 students are selected with a mean score of 90 with  alpha = 0.05"
   ]
  },
  {
   "cell_type": "code",
   "execution_count": 89,
   "id": "e539fc24-74d0-448f-b66d-33816258186d",
   "metadata": {},
   "outputs": [],
   "source": [
    "import scipy.stats as st"
   ]
  },
  {
   "cell_type": "code",
   "execution_count": 90,
   "id": "c708e23a-e6a9-4a4e-9485-4392461d3087",
   "metadata": {},
   "outputs": [
    {
     "data": {
      "text/plain": [
       "3.5999999999999996"
      ]
     },
     "execution_count": 90,
     "metadata": {},
     "output_type": "execute_result"
    }
   ],
   "source": [
    "sample_mean = 90\n",
    "population_mean = 82\n",
    "population_std = 20\n",
    "no_of_samples = 81\n",
    "alpha = 0.05\n",
    "\n",
    "z_cal = ((sample_mean - population_mean)/(population_std / np.sqrt(no_of_samples)))\n",
    "z_cal"
   ]
  },
  {
   "cell_type": "code",
   "execution_count": 91,
   "id": "e1d4f905-d34d-4ced-b423-02cfee228e12",
   "metadata": {},
   "outputs": [
    {
     "data": {
      "text/plain": [
       "1.6448536269514722"
      ]
     },
     "execution_count": 91,
     "metadata": {},
     "output_type": "execute_result"
    }
   ],
   "source": [
    "z_table = st.norm.ppf(1- alpha)\n",
    "z_table"
   ]
  },
  {
   "cell_type": "code",
   "execution_count": 92,
   "id": "b410aa2d-c9cd-47aa-a4e8-f35f23795d76",
   "metadata": {},
   "outputs": [
    {
     "name": "stdout",
     "output_type": "stream",
     "text": [
      "Reject H0\n"
     ]
    }
   ],
   "source": [
    "if z_cal > z_table:\n",
    "    print(\"Reject H0\")\n",
    "else:\n",
    "    print(\"Accept H0\")"
   ]
  },
  {
   "cell_type": "markdown",
   "id": "00519fb0-94d5-4c7b-a47c-6a95b06c1337",
   "metadata": {},
   "source": [
    "##### Q2) You have collected data from a random sample of 30 customers who made purchases on the old website design & 30 customers who made purchases on the new website design as below.Does the new website design has lead to significance increase in the average purchase amount compared to the old design. (Population old mean = Population new mean)"
   ]
  },
  {
   "cell_type": "code",
   "execution_count": 93,
   "id": "19c00c01-1a41-486e-b5c7-bc13bac8458c",
   "metadata": {},
   "outputs": [],
   "source": [
    "old_data = [45.2,42.8,38.9,43.5,41.0,44.6,40.5,42.7,39.8,41.4,44.3,39.7,42.1,40.6,43.0,42.2,41.5,39.6,44.0,43.1,38.7,43.9,42.0,41.9,42.8,43.7,41.3,40.9,42.5,41.6]\n",
    "new_data = [48.5,49.1,50.2,47.8,48.7,49.9,48.0,50.5,49.8,49.6,48.2,48.9,49.7,50.3,49.4,50.1,48.6,48.3,49.0,50.0,48.4,49.3,49.5,48.8,50.6,50.4,48.1,49.2,50.7,50.8]\n",
    "pop_std = 2.5\n",
    "no_of_samples = len(new_data)\n",
    "alp = 0.05"
   ]
  },
  {
   "cell_type": "code",
   "execution_count": 94,
   "id": "95a5489e-cbe9-4d88-abd9-e0053ae29f6b",
   "metadata": {},
   "outputs": [
    {
     "data": {
      "text/plain": [
       "(41.99333333333333, 49.346666666666664)"
      ]
     },
     "execution_count": 94,
     "metadata": {},
     "output_type": "execute_result"
    }
   ],
   "source": [
    "mean_old = np.mean(old_data)\n",
    "mean_new = np.mean(new_data)\n",
    "mean_old,mean_new"
   ]
  },
  {
   "cell_type": "code",
   "execution_count": 95,
   "id": "11d235ea-e35c-4024-ab26-7ea17558db59",
   "metadata": {},
   "outputs": [
    {
     "data": {
      "text/plain": [
       "16.11034615808528"
      ]
     },
     "execution_count": 95,
     "metadata": {},
     "output_type": "execute_result"
    }
   ],
   "source": [
    "z_cal = (mean_new - mean_old)/(pop_std/np.sqrt(no_of_samples))\n",
    "z_cal"
   ]
  },
  {
   "cell_type": "code",
   "execution_count": 96,
   "id": "989d51a2-fbf6-40d0-b6dc-a4c6cfcc4080",
   "metadata": {},
   "outputs": [
    {
     "data": {
      "text/plain": [
       "1.6448536269514722"
      ]
     },
     "execution_count": 96,
     "metadata": {},
     "output_type": "execute_result"
    }
   ],
   "source": [
    "z_tab = st.norm.ppf(1-alp)\n",
    "z_tab"
   ]
  },
  {
   "cell_type": "code",
   "execution_count": 97,
   "id": "81bec8af-3485-45d4-8699-792138b6c700",
   "metadata": {},
   "outputs": [
    {
     "name": "stdout",
     "output_type": "stream",
     "text": [
      "Reject H0\n"
     ]
    }
   ],
   "source": [
    "if z_cal > z_table:\n",
    "    print(\"Reject H0\")\n",
    "else:\n",
    "    print(\"Accept H0\")"
   ]
  },
  {
   "cell_type": "markdown",
   "id": "d5866b28-5883-4940-8bc4-c71c7e95eeac",
   "metadata": {},
   "source": [
    "#### T Test\n",
    "##### If Sample mean & standard deviation are known and also the sample size is < 30, we do T test"
   ]
  },
  {
   "cell_type": "markdown",
   "id": "ab039a7f-33e1-45b9-a36d-10f887b786c7",
   "metadata": {},
   "source": [
    "##### Q1) A manufacturer claims that the average weight of a bag of potato chips is 150 grams. A sample of 25 bags is taken, and the average weight is found to be 148 grams,with a standard deviation of 5 grams.Test the manufacturer's claim using a one-tailed t-test with a significance level of 0.05."
   ]
  },
  {
   "cell_type": "code",
   "execution_count": 98,
   "id": "0229db3a-1bfd-444a-8f02-e23224b0130e",
   "metadata": {},
   "outputs": [],
   "source": [
    "pop_mean = 150\n",
    "sample_mean = 148\n",
    "sample_std = 5\n",
    "no_of_samples = 25\n",
    "alp = 0.05"
   ]
  },
  {
   "cell_type": "code",
   "execution_count": 99,
   "id": "f53f285f-e3e2-4a06-be70-041d14bc2d3c",
   "metadata": {},
   "outputs": [
    {
     "data": {
      "text/plain": [
       "24"
      ]
     },
     "execution_count": 99,
     "metadata": {},
     "output_type": "execute_result"
    }
   ],
   "source": [
    "degree_of_freedom = no_of_samples - 1 \n",
    "degree_of_freedom"
   ]
  },
  {
   "cell_type": "code",
   "execution_count": 100,
   "id": "847cab8b-13a8-4b0b-98f4-cfd59f6815f5",
   "metadata": {},
   "outputs": [
    {
     "data": {
      "text/plain": [
       "-1.7108820799094282"
      ]
     },
     "execution_count": 100,
     "metadata": {},
     "output_type": "execute_result"
    }
   ],
   "source": [
    "t_tab = st.t.ppf(0.05,24)\n",
    "t_tab"
   ]
  },
  {
   "cell_type": "code",
   "execution_count": 101,
   "id": "b9f8d0ae-ff18-4c49-abfa-c1a33d7cf431",
   "metadata": {},
   "outputs": [
    {
     "data": {
      "text/plain": [
       "66.0"
      ]
     },
     "execution_count": 101,
     "metadata": {},
     "output_type": "execute_result"
    }
   ],
   "source": [
    "t_cal = ((sample_mean - population_mean)/(sample_std / np.sqrt(no_of_samples)))\n",
    "t_cal"
   ]
  },
  {
   "cell_type": "code",
   "execution_count": 102,
   "id": "1879c31f-a920-481c-83bf-e8f1ee5b09fb",
   "metadata": {},
   "outputs": [
    {
     "name": "stdout",
     "output_type": "stream",
     "text": [
      "Reject H0\n"
     ]
    }
   ],
   "source": [
    "if t_cal > t_tab:\n",
    "    print(\"Reject H0\")\n",
    "else:\n",
    "    print(\"Accept H0\")"
   ]
  },
  {
   "cell_type": "markdown",
   "id": "53e3916f-6501-4f87-bd64-512498e913b2",
   "metadata": {},
   "source": [
    "##### Q2) A company wants to test whether there is a difference in productivity between two teams.They randomly select 20 employees from each team and record their productivity scores.The mean productivity score for Team A is 80 with a standard deviation of 5,while the mean productivity score for Team B is 75 with a standard deviation of 6.Test at a 5% level of significance whether there is a difference productivity between the two teams."
   ]
  },
  {
   "cell_type": "code",
   "execution_count": 103,
   "id": "9f7620c5-417b-420d-96a5-d1918e91e1a6",
   "metadata": {},
   "outputs": [],
   "source": [
    "no_of_samples = 20\n",
    "mean_A = 80\n",
    "std_A = 5\n",
    "mean_B = 75\n",
    "std_B = 6\n",
    "alp = 0.05"
   ]
  },
  {
   "cell_type": "code",
   "execution_count": 104,
   "id": "f6529ec6-0603-48a5-bd19-202476d5bc34",
   "metadata": {},
   "outputs": [
    {
     "data": {
      "text/plain": [
       "38"
      ]
     },
     "execution_count": 104,
     "metadata": {},
     "output_type": "execute_result"
    }
   ],
   "source": [
    "deg_free = no_of_samples + no_of_samples - 2\n",
    "deg_free"
   ]
  },
  {
   "cell_type": "code",
   "execution_count": 105,
   "id": "df9685d6-7e35-4e63-9369-c6693c6bb3a0",
   "metadata": {},
   "outputs": [
    {
     "data": {
      "text/plain": [
       "2.024394164575136"
      ]
     },
     "execution_count": 105,
     "metadata": {},
     "output_type": "execute_result"
    }
   ],
   "source": [
    "t_tab = st.t.ppf(1-(alp/2),deg_free)\n",
    "t_tab"
   ]
  },
  {
   "cell_type": "code",
   "execution_count": 106,
   "id": "7873f69a-650f-4a76-a0a6-d021238ed968",
   "metadata": {},
   "outputs": [
    {
     "data": {
      "text/plain": [
       "2.862991671569341"
      ]
     },
     "execution_count": 106,
     "metadata": {},
     "output_type": "execute_result"
    }
   ],
   "source": [
    "t_cal = (mean_A - mean_B)/np.sqrt((std_A**2/no_of_samples)+(std_B**2/no_of_samples))\n",
    "t_cal"
   ]
  },
  {
   "cell_type": "code",
   "execution_count": 107,
   "id": "5d1d2ec5-d9c4-4596-ad60-c338bf96dd5e",
   "metadata": {},
   "outputs": [
    {
     "name": "stdout",
     "output_type": "stream",
     "text": [
      "Reject H0\n"
     ]
    }
   ],
   "source": [
    "if t_cal > t_tab:\n",
    "    print(\"Reject H0\")\n",
    "else:\n",
    "    print(\"Accept H0\")"
   ]
  },
  {
   "cell_type": "markdown",
   "id": "1b4619f6-f808-48df-9120-d8b845115594",
   "metadata": {},
   "source": [
    "#### Chi-Square Test\n",
    "##### It is non-parametric test that is performed on categorical data\n",
    "##### It measures Goodness and independence"
   ]
  },
  {
   "cell_type": "markdown",
   "id": "2e7ec1d8-4402-48b4-b2b3-a38521eca891",
   "metadata": {},
   "source": [
    "##### Q1) A fair die is rolled 120 times & the following results are obtained:\n",
    "#####     Face1 :22 times\n",
    "#####     Face2 :17 times\n",
    "#####     Face3 :20 times\n",
    "#####     Face4 :26 times\n",
    "#####     Face5 :22 times\n",
    "#####     Face6 :13 times\n",
    "#####     Test at a 5% level of significance whether the die is fair."
   ]
  },
  {
   "cell_type": "code",
   "execution_count": 229,
   "id": "8764ba66-140d-4d5a-b8f3-b96e7abe217b",
   "metadata": {},
   "outputs": [
    {
     "data": {
      "text/plain": [
       "5.1000000000000005"
      ]
     },
     "execution_count": 229,
     "metadata": {},
     "output_type": "execute_result"
    }
   ],
   "source": [
    "ori = np.array([22,17,20,26,22,13])\n",
    "exp = np.array([20,20,20,20,20,20])\n",
    "deg_free = 5\n",
    "alp = 0.05\n",
    "\n",
    "chi_cal = np.sum((ori-exp)**2/exp)\n",
    "chi_cal"
   ]
  },
  {
   "cell_type": "code",
   "execution_count": 234,
   "id": "eb3f34f9-9a5a-4da1-bdb6-3d13b926de01",
   "metadata": {},
   "outputs": [
    {
     "data": {
      "text/plain": [
       "11.070497693516351"
      ]
     },
     "execution_count": 234,
     "metadata": {},
     "output_type": "execute_result"
    }
   ],
   "source": [
    "chi_tab = st.chi2.ppf(1-(alp),5)\n",
    "chi_tab"
   ]
  },
  {
   "cell_type": "code",
   "execution_count": 236,
   "id": "dffc5ab2-96cd-4e2f-981b-501848cc90bc",
   "metadata": {},
   "outputs": [
    {
     "name": "stdout",
     "output_type": "stream",
     "text": [
      "Accept H0\n"
     ]
    }
   ],
   "source": [
    "if chi_cal > chi_tab:\n",
    "    print(\"Reject H0\")\n",
    "else:\n",
    "    print(\"Accept H0\")"
   ]
  }
 ],
 "metadata": {
  "kernelspec": {
   "display_name": "Python 3 (ipykernel)",
   "language": "python",
   "name": "python3"
  },
  "language_info": {
   "codemirror_mode": {
    "name": "ipython",
    "version": 3
   },
   "file_extension": ".py",
   "mimetype": "text/x-python",
   "name": "python",
   "nbconvert_exporter": "python",
   "pygments_lexer": "ipython3",
   "version": "3.10.12"
  }
 },
 "nbformat": 4,
 "nbformat_minor": 5
}
